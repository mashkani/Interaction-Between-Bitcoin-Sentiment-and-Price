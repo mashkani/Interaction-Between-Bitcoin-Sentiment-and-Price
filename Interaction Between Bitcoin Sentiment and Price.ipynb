{
 "cells": [
  {
   "cell_type": "markdown",
   "metadata": {},
   "source": [
    "Neccessary installs for this project:"
   ]
  },
  {
   "cell_type": "code",
   "execution_count": null,
   "metadata": {},
   "outputs": [],
   "source": [
    "!pip install tweepy\n",
    "!pip3 install cryptocompare\n",
    "!pip install wordcloud"
   ]
  },
  {
   "cell_type": "code",
   "execution_count": 1,
   "metadata": {
    "ExecuteTime": {
     "end_time": "2020-12-22T07:43:12.255759Z",
     "start_time": "2020-12-22T07:43:10.390629Z"
    }
   },
   "outputs": [],
   "source": [
    "import pandas as pd\n",
    "import numpy as np\n",
    "import datetime as dt\n",
    "import tweepy \n",
    "import cryptocompare\n",
    "from textblob import TextBlob\n",
    "import re\n",
    "from wordcloud import WordCloud\n",
    "from sklearn import (model_selection, linear_model, metrics)\n",
    "from sklearn.tree import DecisionTreeClassifier \n",
    "from sklearn.ensemble import RandomForestClassifier \n",
    "import matplotlib.pyplot as plt\n",
    "%matplotlib inline\n",
    "import seaborn as sns\n",
    "import qeds\n",
    "qeds.themes.mpl_style();"
   ]
  },
  {
   "cell_type": "markdown",
   "metadata": {},
   "source": [
    "# Introduction "
   ]
  },
  {
   "cell_type": "markdown",
   "metadata": {},
   "source": [
    "Utilizing tweets from Twitter, this paper explores the interaction between Bitcoin sentiment and Bitcoin prices via a classification analysis. "
   ]
  },
  {
   "cell_type": "markdown",
   "metadata": {},
   "source": [
    "# Twitter and Bitcoin Data"
   ]
  },
  {
   "cell_type": "markdown",
   "metadata": {},
   "source": [
    "## Scraping Data "
   ]
  },
  {
   "cell_type": "markdown",
   "metadata": {},
   "source": [
    "### Scraping Relevant Bitcoin Tweets"
   ]
  },
  {
   "cell_type": "markdown",
   "metadata": {},
   "source": [
    "The tweets were scraped using Twitter's stadard 7-day search API. "
   ]
  },
  {
   "cell_type": "markdown",
   "metadata": {},
   "source": [
    "The cells below (up to saving the dataframe) have already been exucted\n",
    "but are displayed for completeness.  "
   ]
  },
  {
   "cell_type": "code",
   "execution_count": null,
   "metadata": {},
   "outputs": [],
   "source": [
    "# keys and tokens removed for confidentiality \n",
    "\n",
    "consumer_key = \"\"\n",
    "consumer_secret = \"\"\n",
    "access_token = \"\"\n",
    "access_token_secret = \"\"\n",
    "\n",
    "auth = tweepy.OAuthHandler(consumer_key, consumer_secret)\n",
    "auth.set_access_token(access_token, access_token_secret)\n",
    "api = tweepy.API(auth,wait_on_rate_limit=True)"
   ]
  },
  {
   "cell_type": "code",
   "execution_count": null,
   "metadata": {
    "ExecuteTime": {
     "end_time": "2020-12-22T02:20:47.904051Z",
     "start_time": "2020-12-22T02:20:47.505547Z"
    }
   },
   "outputs": [],
   "source": [
    "text_query = \"#bitcoin OR bitcoin -filter:retweets\" \n",
    "count = 200_000 # estimated to provide a weeks worth of tweets matching this query \n",
    "\n",
    "try:\n",
    " # Creation of query method using parameters\n",
    " tweets = tweepy.Cursor(api.search,q=text_query,lang=\"en\").items(count)\n",
    " \n",
    " # Pulling information from tweets iterable object\n",
    " tweets_list = [[tweet.created_at, tweet.user.name, tweet.user.screen_name, \n",
    "                 tweet.text, tweet.user.followers_count] for tweet in tweets]\n",
    " \n",
    " # Creation of dataframe from tweets list\n",
    " tweets_df = pd.DataFrame(tweets_list, columns = ['Tweet Datetime', 'name', 'Twitter @ name', \n",
    "                                                  'Tweet', 'Follower Count'])\n",
    " \n",
    "except BaseException as e: \n",
    "    print('failed on_status,',str(e))\n",
    "    time.sleep(3)"
   ]
  },
  {
   "cell_type": "code",
   "execution_count": null,
   "metadata": {},
   "outputs": [],
   "source": [
    "# saving dataframe as a csv file\n",
    "path = 'C:\\\\Econ 323\\\\TwitterData.csv'\n",
    "tweets_df.to_csv(path, index=False)"
   ]
  },
  {
   "cell_type": "code",
   "execution_count": 2,
   "metadata": {
    "ExecuteTime": {
     "end_time": "2020-12-22T07:43:16.860346Z",
     "start_time": "2020-12-22T07:43:16.166652Z"
    }
   },
   "outputs": [],
   "source": [
    "# reading dataframe from saved csv file\n",
    "t_df = pd.read_csv('TwitterData.csv', parse_dates=[\"Tweet Datetime\"]) "
   ]
  },
  {
   "cell_type": "code",
   "execution_count": 3,
   "metadata": {
    "ExecuteTime": {
     "end_time": "2020-12-22T07:43:17.965598Z",
     "start_time": "2020-12-22T07:43:17.941731Z"
    },
    "scrolled": false
   },
   "outputs": [
    {
     "data": {
      "text/plain": [
       "DatetimeIndex(['2020-12-19 11:15:37', '2020-12-19 11:15:37',\n",
       "               '2020-12-19 11:15:35', '2020-12-19 11:15:32',\n",
       "               '2020-12-19 11:15:29', '2020-12-19 11:15:28',\n",
       "               '2020-12-19 11:15:28', '2020-12-19 11:15:26',\n",
       "               '2020-12-19 11:15:24', '2020-12-19 11:15:23',\n",
       "               ...\n",
       "               '2020-12-16 13:43:06', '2020-12-16 13:43:05',\n",
       "               '2020-12-16 13:43:05', '2020-12-16 13:43:05',\n",
       "               '2020-12-16 13:43:04', '2020-12-16 13:43:04',\n",
       "               '2020-12-16 13:43:04', '2020-12-16 13:43:03',\n",
       "               '2020-12-16 13:43:03', '2020-12-16 13:43:03'],\n",
       "              dtype='datetime64[ns]', name='Tweet Datetime', length=200000, freq=None)"
      ]
     },
     "execution_count": 3,
     "metadata": {},
     "output_type": "execute_result"
    }
   ],
   "source": [
    "t_df.set_index(\"Tweet Datetime\", inplace=True)\n",
    "t_df.index"
   ]
  },
  {
   "cell_type": "code",
   "execution_count": 4,
   "metadata": {
    "ExecuteTime": {
     "end_time": "2020-12-22T07:43:19.990885Z",
     "start_time": "2020-12-22T07:43:19.911191Z"
    },
    "scrolled": true
   },
   "outputs": [
    {
     "name": "stdout",
     "output_type": "stream",
     "text": [
      "<class 'pandas.core.frame.DataFrame'>\n",
      "DatetimeIndex: 200000 entries, 2020-12-19 11:15:37 to 2020-12-16 13:43:03\n",
      "Data columns (total 4 columns):\n",
      " #   Column          Non-Null Count   Dtype \n",
      "---  ------          --------------   ----- \n",
      " 0   name            199993 non-null  object\n",
      " 1   Twitter @ name  200000 non-null  object\n",
      " 2   Tweet           200000 non-null  object\n",
      " 3   Follower Count  200000 non-null  int64 \n",
      "dtypes: int64(1), object(3)\n",
      "memory usage: 7.6+ MB\n"
     ]
    },
    {
     "data": {
      "text/html": [
       "<div>\n",
       "<style scoped>\n",
       "    .dataframe tbody tr th:only-of-type {\n",
       "        vertical-align: middle;\n",
       "    }\n",
       "\n",
       "    .dataframe tbody tr th {\n",
       "        vertical-align: top;\n",
       "    }\n",
       "\n",
       "    .dataframe thead th {\n",
       "        text-align: right;\n",
       "    }\n",
       "</style>\n",
       "<table border=\"1\" class=\"dataframe\">\n",
       "  <thead>\n",
       "    <tr style=\"text-align: right;\">\n",
       "      <th></th>\n",
       "      <th>name</th>\n",
       "      <th>Twitter @ name</th>\n",
       "      <th>Tweet</th>\n",
       "      <th>Follower Count</th>\n",
       "    </tr>\n",
       "    <tr>\n",
       "      <th>Tweet Datetime</th>\n",
       "      <th></th>\n",
       "      <th></th>\n",
       "      <th></th>\n",
       "      <th></th>\n",
       "    </tr>\n",
       "  </thead>\n",
       "  <tbody>\n",
       "    <tr>\n",
       "      <th>2020-12-19 11:15:37</th>\n",
       "      <td>Coinpedia - Fintech News</td>\n",
       "      <td>CoinpediaNews</td>\n",
       "      <td>@TheMoonCarl Now we have a common wish there.😇...</td>\n",
       "      <td>2685</td>\n",
       "    </tr>\n",
       "    <tr>\n",
       "      <th>2020-12-19 11:15:37</th>\n",
       "      <td>CryptoQueen.pl</td>\n",
       "      <td>CryptoqueenP</td>\n",
       "      <td>According to Mayer Multiply its still too earl...</td>\n",
       "      <td>1133</td>\n",
       "    </tr>\n",
       "    <tr>\n",
       "      <th>2020-12-19 11:15:35</th>\n",
       "      <td>Sandra Davis</td>\n",
       "      <td>SandraDavis01</td>\n",
       "      <td>@v4mpgrI Just received a loan of $50,000 worth...</td>\n",
       "      <td>20</td>\n",
       "    </tr>\n",
       "    <tr>\n",
       "      <th>2020-12-19 11:15:32</th>\n",
       "      <td>TDB</td>\n",
       "      <td>tdbryan1987</td>\n",
       "      <td>@laxr2020 @saxena_puru She was laughed at for ...</td>\n",
       "      <td>689</td>\n",
       "    </tr>\n",
       "    <tr>\n",
       "      <th>2020-12-19 11:15:29</th>\n",
       "      <td>Bavesh Magan</td>\n",
       "      <td>MaganBavesh</td>\n",
       "      <td>#AAVE Breaking Medium line. Can it hold? #Bitc...</td>\n",
       "      <td>5</td>\n",
       "    </tr>\n",
       "    <tr>\n",
       "      <th>...</th>\n",
       "      <td>...</td>\n",
       "      <td>...</td>\n",
       "      <td>...</td>\n",
       "      <td>...</td>\n",
       "    </tr>\n",
       "    <tr>\n",
       "      <th>2020-12-16 13:43:04</th>\n",
       "      <td>J62 🔴🔴🔴🔴🔴🔴 ₿🚀🌙</td>\n",
       "      <td>interbiznw</td>\n",
       "      <td>Boiz.. We just BROKEEEEEEEEEEEE 20K #Bitcoin 🚀...</td>\n",
       "      <td>509</td>\n",
       "    </tr>\n",
       "    <tr>\n",
       "      <th>2020-12-16 13:43:04</th>\n",
       "      <td>Christian</td>\n",
       "      <td>chrispr79</td>\n",
       "      <td>We just hit 20k.! Whats is next?\\n#Bitcoin</td>\n",
       "      <td>86</td>\n",
       "    </tr>\n",
       "    <tr>\n",
       "      <th>2020-12-16 13:43:03</th>\n",
       "      <td>A Rudd</td>\n",
       "      <td>AriRudd</td>\n",
       "      <td>O wow 20,0000 #Bitcoin</td>\n",
       "      <td>319</td>\n",
       "    </tr>\n",
       "    <tr>\n",
       "      <th>2020-12-16 13:43:03</th>\n",
       "      <td>Zulemi Montesuma</td>\n",
       "      <td>ZulemiMo</td>\n",
       "      <td>Finally #Bitcoin!</td>\n",
       "      <td>109</td>\n",
       "    </tr>\n",
       "    <tr>\n",
       "      <th>2020-12-16 13:43:03</th>\n",
       "      <td>Pablo Lerdo 🪁</td>\n",
       "      <td>PabloLerdoNews</td>\n",
       "      <td>#Bitcoin just broke the 20,000 !</td>\n",
       "      <td>105</td>\n",
       "    </tr>\n",
       "  </tbody>\n",
       "</table>\n",
       "<p>200000 rows × 4 columns</p>\n",
       "</div>"
      ],
      "text/plain": [
       "                                         name  Twitter @ name  \\\n",
       "Tweet Datetime                                                  \n",
       "2020-12-19 11:15:37  Coinpedia - Fintech News   CoinpediaNews   \n",
       "2020-12-19 11:15:37            CryptoQueen.pl    CryptoqueenP   \n",
       "2020-12-19 11:15:35              Sandra Davis   SandraDavis01   \n",
       "2020-12-19 11:15:32                       TDB     tdbryan1987   \n",
       "2020-12-19 11:15:29              Bavesh Magan     MaganBavesh   \n",
       "...                                       ...             ...   \n",
       "2020-12-16 13:43:04            J62 🔴🔴🔴🔴🔴🔴 ₿🚀🌙      interbiznw   \n",
       "2020-12-16 13:43:04                 Christian       chrispr79   \n",
       "2020-12-16 13:43:03                    A Rudd         AriRudd   \n",
       "2020-12-16 13:43:03          Zulemi Montesuma        ZulemiMo   \n",
       "2020-12-16 13:43:03             Pablo Lerdo 🪁  PabloLerdoNews   \n",
       "\n",
       "                                                                 Tweet  \\\n",
       "Tweet Datetime                                                           \n",
       "2020-12-19 11:15:37  @TheMoonCarl Now we have a common wish there.😇...   \n",
       "2020-12-19 11:15:37  According to Mayer Multiply its still too earl...   \n",
       "2020-12-19 11:15:35  @v4mpgrI Just received a loan of $50,000 worth...   \n",
       "2020-12-19 11:15:32  @laxr2020 @saxena_puru She was laughed at for ...   \n",
       "2020-12-19 11:15:29  #AAVE Breaking Medium line. Can it hold? #Bitc...   \n",
       "...                                                                ...   \n",
       "2020-12-16 13:43:04  Boiz.. We just BROKEEEEEEEEEEEE 20K #Bitcoin 🚀...   \n",
       "2020-12-16 13:43:04         We just hit 20k.! Whats is next?\\n#Bitcoin   \n",
       "2020-12-16 13:43:03                             O wow 20,0000 #Bitcoin   \n",
       "2020-12-16 13:43:03                                  Finally #Bitcoin!   \n",
       "2020-12-16 13:43:03                   #Bitcoin just broke the 20,000 !   \n",
       "\n",
       "                     Follower Count  \n",
       "Tweet Datetime                       \n",
       "2020-12-19 11:15:37            2685  \n",
       "2020-12-19 11:15:37            1133  \n",
       "2020-12-19 11:15:35              20  \n",
       "2020-12-19 11:15:32             689  \n",
       "2020-12-19 11:15:29               5  \n",
       "...                             ...  \n",
       "2020-12-16 13:43:04             509  \n",
       "2020-12-16 13:43:04              86  \n",
       "2020-12-16 13:43:03             319  \n",
       "2020-12-16 13:43:03             109  \n",
       "2020-12-16 13:43:03             105  \n",
       "\n",
       "[200000 rows x 4 columns]"
      ]
     },
     "execution_count": 4,
     "metadata": {},
     "output_type": "execute_result"
    }
   ],
   "source": [
    "t_df.info()\n",
    "t_df"
   ]
  },
  {
   "cell_type": "markdown",
   "metadata": {},
   "source": [
    "### Scrapping Key Bitcoin Metrics"
   ]
  },
  {
   "cell_type": "markdown",
   "metadata": {
    "ExecuteTime": {
     "end_time": "2020-12-22T06:05:13.409168Z",
     "start_time": "2020-12-22T06:05:13.403186Z"
    }
   },
   "source": [
    "The Bitcoin metrics were scraped using the CryptoCompare API."
   ]
  },
  {
   "cell_type": "markdown",
   "metadata": {},
   "source": [
    "The cells below (up to saving the dataframe) have already been exucted\n",
    "but are displayed for completeness. "
   ]
  },
  {
   "cell_type": "code",
   "execution_count": null,
   "metadata": {
    "ExecuteTime": {
     "end_time": "2020-12-22T03:06:59.257311Z",
     "start_time": "2020-12-22T03:06:58.017235Z"
    }
   },
   "outputs": [],
   "source": [
    "# note: max limit is 2000\n",
    "f = cryptocompare.get_historical_price_minute('BTC', 'EUR', limit=2000, exchange='CCCAGG', \n",
    "                                              toTs=dt.datetime.now())\n",
    "bitcoin_df = pd.DataFrame(f)"
   ]
  },
  {
   "cell_type": "code",
   "execution_count": null,
   "metadata": {},
   "outputs": [],
   "source": [
    "# saving dataframe as a csv file\n",
    "path = 'C:\\\\Econ 323\\\\BitcoinData.csv'\n",
    "bitcoin_df.to_csv(path, index=False)"
   ]
  },
  {
   "cell_type": "code",
   "execution_count": 5,
   "metadata": {
    "ExecuteTime": {
     "end_time": "2020-12-22T07:43:23.921550Z",
     "start_time": "2020-12-22T07:43:23.894675Z"
    }
   },
   "outputs": [],
   "source": [
    "# reading dataframe from saved csv file\n",
    "path = 'C:\\\\Econ 323\\\\BitcoinData.csv'\n",
    "b_df = pd.read_csv(path, parse_dates=[\"time\"]) "
   ]
  },
  {
   "cell_type": "code",
   "execution_count": 6,
   "metadata": {
    "ExecuteTime": {
     "end_time": "2020-12-22T07:43:25.518268Z",
     "start_time": "2020-12-22T07:43:25.480470Z"
    }
   },
   "outputs": [
    {
     "name": "stdout",
     "output_type": "stream",
     "text": [
      "<class 'pandas.core.frame.DataFrame'>\n",
      "DatetimeIndex: 2001 entries, 2020-12-18 02:35:00 to 2020-12-19 11:55:00\n",
      "Data columns (total 8 columns):\n",
      " #   Column            Non-Null Count  Dtype  \n",
      "---  ------            --------------  -----  \n",
      " 0   high              2001 non-null   float64\n",
      " 1   low               2001 non-null   float64\n",
      " 2   open              2001 non-null   float64\n",
      " 3   volumefrom        2001 non-null   float64\n",
      " 4   volumeto          2001 non-null   float64\n",
      " 5   close             2001 non-null   float64\n",
      " 6   conversionType    2001 non-null   object \n",
      " 7   conversionSymbol  13 non-null     object \n",
      "dtypes: float64(6), object(2)\n",
      "memory usage: 140.7+ KB\n"
     ]
    },
    {
     "data": {
      "text/html": [
       "<div>\n",
       "<style scoped>\n",
       "    .dataframe tbody tr th:only-of-type {\n",
       "        vertical-align: middle;\n",
       "    }\n",
       "\n",
       "    .dataframe tbody tr th {\n",
       "        vertical-align: top;\n",
       "    }\n",
       "\n",
       "    .dataframe thead th {\n",
       "        text-align: right;\n",
       "    }\n",
       "</style>\n",
       "<table border=\"1\" class=\"dataframe\">\n",
       "  <thead>\n",
       "    <tr style=\"text-align: right;\">\n",
       "      <th></th>\n",
       "      <th>high</th>\n",
       "      <th>low</th>\n",
       "      <th>open</th>\n",
       "      <th>volumefrom</th>\n",
       "      <th>volumeto</th>\n",
       "      <th>close</th>\n",
       "      <th>conversionType</th>\n",
       "      <th>conversionSymbol</th>\n",
       "    </tr>\n",
       "    <tr>\n",
       "      <th>time</th>\n",
       "      <th></th>\n",
       "      <th></th>\n",
       "      <th></th>\n",
       "      <th></th>\n",
       "      <th></th>\n",
       "      <th></th>\n",
       "      <th></th>\n",
       "      <th></th>\n",
       "    </tr>\n",
       "  </thead>\n",
       "  <tbody>\n",
       "    <tr>\n",
       "      <th>2020-12-18 02:35:00</th>\n",
       "      <td>18937.57</td>\n",
       "      <td>18931.09</td>\n",
       "      <td>18932.04</td>\n",
       "      <td>2.006</td>\n",
       "      <td>38005.00</td>\n",
       "      <td>18937.00</td>\n",
       "      <td>direct</td>\n",
       "      <td>NaN</td>\n",
       "    </tr>\n",
       "    <tr>\n",
       "      <th>2020-12-18 02:36:00</th>\n",
       "      <td>18949.26</td>\n",
       "      <td>18937.00</td>\n",
       "      <td>18937.00</td>\n",
       "      <td>13.950</td>\n",
       "      <td>264446.47</td>\n",
       "      <td>18941.69</td>\n",
       "      <td>direct</td>\n",
       "      <td>NaN</td>\n",
       "    </tr>\n",
       "    <tr>\n",
       "      <th>2020-12-18 02:37:00</th>\n",
       "      <td>18941.69</td>\n",
       "      <td>18898.19</td>\n",
       "      <td>18941.69</td>\n",
       "      <td>10.750</td>\n",
       "      <td>203493.68</td>\n",
       "      <td>18898.25</td>\n",
       "      <td>direct</td>\n",
       "      <td>NaN</td>\n",
       "    </tr>\n",
       "    <tr>\n",
       "      <th>2020-12-18 02:38:00</th>\n",
       "      <td>18911.28</td>\n",
       "      <td>18897.02</td>\n",
       "      <td>18898.25</td>\n",
       "      <td>3.184</td>\n",
       "      <td>60152.75</td>\n",
       "      <td>18911.28</td>\n",
       "      <td>direct</td>\n",
       "      <td>NaN</td>\n",
       "    </tr>\n",
       "    <tr>\n",
       "      <th>2020-12-18 02:39:00</th>\n",
       "      <td>18903.05</td>\n",
       "      <td>18896.66</td>\n",
       "      <td>18903.37</td>\n",
       "      <td>64.820</td>\n",
       "      <td>1225065.77</td>\n",
       "      <td>18899.50</td>\n",
       "      <td>invert_divide</td>\n",
       "      <td>ETH</td>\n",
       "    </tr>\n",
       "    <tr>\n",
       "      <th>...</th>\n",
       "      <td>...</td>\n",
       "      <td>...</td>\n",
       "      <td>...</td>\n",
       "      <td>...</td>\n",
       "      <td>...</td>\n",
       "      <td>...</td>\n",
       "      <td>...</td>\n",
       "      <td>...</td>\n",
       "    </tr>\n",
       "    <tr>\n",
       "      <th>2020-12-19 11:51:00</th>\n",
       "      <td>18713.63</td>\n",
       "      <td>18698.01</td>\n",
       "      <td>18698.01</td>\n",
       "      <td>2.955</td>\n",
       "      <td>55302.19</td>\n",
       "      <td>18712.78</td>\n",
       "      <td>direct</td>\n",
       "      <td>NaN</td>\n",
       "    </tr>\n",
       "    <tr>\n",
       "      <th>2020-12-19 11:52:00</th>\n",
       "      <td>18717.61</td>\n",
       "      <td>18709.04</td>\n",
       "      <td>18712.78</td>\n",
       "      <td>1.694</td>\n",
       "      <td>31725.34</td>\n",
       "      <td>18709.25</td>\n",
       "      <td>direct</td>\n",
       "      <td>NaN</td>\n",
       "    </tr>\n",
       "    <tr>\n",
       "      <th>2020-12-19 11:53:00</th>\n",
       "      <td>18715.55</td>\n",
       "      <td>18709.25</td>\n",
       "      <td>18709.25</td>\n",
       "      <td>3.718</td>\n",
       "      <td>69624.41</td>\n",
       "      <td>18714.26</td>\n",
       "      <td>direct</td>\n",
       "      <td>NaN</td>\n",
       "    </tr>\n",
       "    <tr>\n",
       "      <th>2020-12-19 11:54:00</th>\n",
       "      <td>18722.87</td>\n",
       "      <td>18713.24</td>\n",
       "      <td>18714.26</td>\n",
       "      <td>1.879</td>\n",
       "      <td>35188.78</td>\n",
       "      <td>18720.58</td>\n",
       "      <td>direct</td>\n",
       "      <td>NaN</td>\n",
       "    </tr>\n",
       "    <tr>\n",
       "      <th>2020-12-19 11:55:00</th>\n",
       "      <td>18720.58</td>\n",
       "      <td>18719.39</td>\n",
       "      <td>18720.58</td>\n",
       "      <td>0.000</td>\n",
       "      <td>0.00</td>\n",
       "      <td>18719.39</td>\n",
       "      <td>direct</td>\n",
       "      <td>NaN</td>\n",
       "    </tr>\n",
       "  </tbody>\n",
       "</table>\n",
       "<p>2001 rows × 8 columns</p>\n",
       "</div>"
      ],
      "text/plain": [
       "                         high       low      open  volumefrom    volumeto  \\\n",
       "time                                                                        \n",
       "2020-12-18 02:35:00  18937.57  18931.09  18932.04       2.006    38005.00   \n",
       "2020-12-18 02:36:00  18949.26  18937.00  18937.00      13.950   264446.47   \n",
       "2020-12-18 02:37:00  18941.69  18898.19  18941.69      10.750   203493.68   \n",
       "2020-12-18 02:38:00  18911.28  18897.02  18898.25       3.184    60152.75   \n",
       "2020-12-18 02:39:00  18903.05  18896.66  18903.37      64.820  1225065.77   \n",
       "...                       ...       ...       ...         ...         ...   \n",
       "2020-12-19 11:51:00  18713.63  18698.01  18698.01       2.955    55302.19   \n",
       "2020-12-19 11:52:00  18717.61  18709.04  18712.78       1.694    31725.34   \n",
       "2020-12-19 11:53:00  18715.55  18709.25  18709.25       3.718    69624.41   \n",
       "2020-12-19 11:54:00  18722.87  18713.24  18714.26       1.879    35188.78   \n",
       "2020-12-19 11:55:00  18720.58  18719.39  18720.58       0.000        0.00   \n",
       "\n",
       "                        close conversionType conversionSymbol  \n",
       "time                                                           \n",
       "2020-12-18 02:35:00  18937.00         direct              NaN  \n",
       "2020-12-18 02:36:00  18941.69         direct              NaN  \n",
       "2020-12-18 02:37:00  18898.25         direct              NaN  \n",
       "2020-12-18 02:38:00  18911.28         direct              NaN  \n",
       "2020-12-18 02:39:00  18899.50  invert_divide              ETH  \n",
       "...                       ...            ...              ...  \n",
       "2020-12-19 11:51:00  18712.78         direct              NaN  \n",
       "2020-12-19 11:52:00  18709.25         direct              NaN  \n",
       "2020-12-19 11:53:00  18714.26         direct              NaN  \n",
       "2020-12-19 11:54:00  18720.58         direct              NaN  \n",
       "2020-12-19 11:55:00  18719.39         direct              NaN  \n",
       "\n",
       "[2001 rows x 8 columns]"
      ]
     },
     "execution_count": 6,
     "metadata": {},
     "output_type": "execute_result"
    }
   ],
   "source": [
    "b_df.set_index(\"time\", inplace=True)\n",
    "b_df.info()\n",
    "b_df"
   ]
  },
  {
   "cell_type": "markdown",
   "metadata": {},
   "source": [
    "## Cleaning Twitter and Bitcoin Data"
   ]
  },
  {
   "cell_type": "markdown",
   "metadata": {},
   "source": [
    "The tweet data and Bitcoin data must be consistent with each other in order to analyze Bitcoin metrics alongside their corresponding tweets. Thus, cleaning the tweet and Bitcoin dataframes is needed."
   ]
  },
  {
   "cell_type": "markdown",
   "metadata": {},
   "source": [
    "### Cleaning Twitter Data"
   ]
  },
  {
   "cell_type": "code",
   "execution_count": 7,
   "metadata": {
    "ExecuteTime": {
     "end_time": "2020-12-22T07:43:29.501745Z",
     "start_time": "2020-12-22T07:43:29.294153Z"
    }
   },
   "outputs": [
    {
     "data": {
      "text/plain": [
       "DatetimeIndex(['2020-12-19 11:15:37+00:00', '2020-12-19 11:15:37+00:00',\n",
       "               '2020-12-19 11:15:35+00:00', '2020-12-19 11:15:32+00:00',\n",
       "               '2020-12-19 11:15:29+00:00', '2020-12-19 11:15:28+00:00',\n",
       "               '2020-12-19 11:15:28+00:00', '2020-12-19 11:15:26+00:00',\n",
       "               '2020-12-19 11:15:24+00:00', '2020-12-19 11:15:23+00:00',\n",
       "               ...\n",
       "               '2020-12-16 13:43:06+00:00', '2020-12-16 13:43:05+00:00',\n",
       "               '2020-12-16 13:43:05+00:00', '2020-12-16 13:43:05+00:00',\n",
       "               '2020-12-16 13:43:04+00:00', '2020-12-16 13:43:04+00:00',\n",
       "               '2020-12-16 13:43:04+00:00', '2020-12-16 13:43:03+00:00',\n",
       "               '2020-12-16 13:43:03+00:00', '2020-12-16 13:43:03+00:00'],\n",
       "              dtype='datetime64[ns, UCT]', name='Tweet Datetime', length=200000, freq=None)"
      ]
     },
     "execution_count": 7,
     "metadata": {},
     "output_type": "execute_result"
    }
   ],
   "source": [
    "# The Tweet Datetime column is made timezone-aware  \n",
    "\n",
    "t_df.index = t_df.index.tz_localize('UCT')    \n",
    "t_df.index"
   ]
  },
  {
   "cell_type": "code",
   "execution_count": 8,
   "metadata": {
    "ExecuteTime": {
     "end_time": "2020-12-22T07:43:31.468629Z",
     "start_time": "2020-12-22T07:43:31.446693Z"
    }
   },
   "outputs": [
    {
     "data": {
      "text/plain": [
       "DatetimeIndex(['2020-12-19 03:15:37-08:00', '2020-12-19 03:15:37-08:00',\n",
       "               '2020-12-19 03:15:35-08:00', '2020-12-19 03:15:32-08:00',\n",
       "               '2020-12-19 03:15:29-08:00', '2020-12-19 03:15:28-08:00',\n",
       "               '2020-12-19 03:15:28-08:00', '2020-12-19 03:15:26-08:00',\n",
       "               '2020-12-19 03:15:24-08:00', '2020-12-19 03:15:23-08:00',\n",
       "               ...\n",
       "               '2020-12-16 05:43:06-08:00', '2020-12-16 05:43:05-08:00',\n",
       "               '2020-12-16 05:43:05-08:00', '2020-12-16 05:43:05-08:00',\n",
       "               '2020-12-16 05:43:04-08:00', '2020-12-16 05:43:04-08:00',\n",
       "               '2020-12-16 05:43:04-08:00', '2020-12-16 05:43:03-08:00',\n",
       "               '2020-12-16 05:43:03-08:00', '2020-12-16 05:43:03-08:00'],\n",
       "              dtype='datetime64[ns, America/Los_Angeles]', name='Tweet Datetime', length=200000, freq=None)"
      ]
     },
     "execution_count": 8,
     "metadata": {},
     "output_type": "execute_result"
    }
   ],
   "source": [
    "# Now the Tweet Datetime column can be converted to Pacific Standard Time \n",
    "\n",
    "t_df.index = t_df.index.tz_convert('America/Los_Angeles')\n",
    "t_df.index"
   ]
  },
  {
   "cell_type": "code",
   "execution_count": 9,
   "metadata": {
    "ExecuteTime": {
     "end_time": "2020-12-22T07:43:34.012253Z",
     "start_time": "2020-12-22T07:43:33.950402Z"
    }
   },
   "outputs": [],
   "source": [
    "# Tweet Datetime is rounded to minutes only\n",
    "\n",
    "t_df.index = t_df.index.floor('Min')"
   ]
  },
  {
   "cell_type": "code",
   "execution_count": 10,
   "metadata": {
    "ExecuteTime": {
     "end_time": "2020-12-22T07:43:36.074904Z",
     "start_time": "2020-12-22T07:43:36.014178Z"
    }
   },
   "outputs": [
    {
     "data": {
      "text/html": [
       "<div>\n",
       "<style scoped>\n",
       "    .dataframe tbody tr th:only-of-type {\n",
       "        vertical-align: middle;\n",
       "    }\n",
       "\n",
       "    .dataframe tbody tr th {\n",
       "        vertical-align: top;\n",
       "    }\n",
       "\n",
       "    .dataframe thead th {\n",
       "        text-align: right;\n",
       "    }\n",
       "</style>\n",
       "<table border=\"1\" class=\"dataframe\">\n",
       "  <thead>\n",
       "    <tr style=\"text-align: right;\">\n",
       "      <th></th>\n",
       "      <th>name</th>\n",
       "      <th>Twitter @ name</th>\n",
       "      <th>Tweet</th>\n",
       "      <th>Follower Count</th>\n",
       "    </tr>\n",
       "    <tr>\n",
       "      <th>Tweet Datetime</th>\n",
       "      <th></th>\n",
       "      <th></th>\n",
       "      <th></th>\n",
       "      <th></th>\n",
       "    </tr>\n",
       "  </thead>\n",
       "  <tbody>\n",
       "    <tr>\n",
       "      <th>2020-12-16 05:43:00-08:00</th>\n",
       "      <td>Pablo Lerdo 🪁</td>\n",
       "      <td>PabloLerdoNews</td>\n",
       "      <td>#Bitcoin just broke the 20,000 !</td>\n",
       "      <td>105</td>\n",
       "    </tr>\n",
       "    <tr>\n",
       "      <th>2020-12-16 05:43:00-08:00</th>\n",
       "      <td>Peter Andersson</td>\n",
       "      <td>PeterPeterand88</td>\n",
       "      <td>#bitcoin just took the magic 20$k! https://t.c...</td>\n",
       "      <td>423</td>\n",
       "    </tr>\n",
       "    <tr>\n",
       "      <th>2020-12-16 05:43:00-08:00</th>\n",
       "      <td>John Bednarski</td>\n",
       "      <td>john_bednarski</td>\n",
       "      <td>#Bitcoin hits 2 week high breaking last big re...</td>\n",
       "      <td>346</td>\n",
       "    </tr>\n",
       "    <tr>\n",
       "      <th>2020-12-16 05:43:00-08:00</th>\n",
       "      <td>Whit GaŁŁimore🔗</td>\n",
       "      <td>WhitGallimore</td>\n",
       "      <td>#bitcoin breaks $20K for the first time!!</td>\n",
       "      <td>580</td>\n",
       "    </tr>\n",
       "    <tr>\n",
       "      <th>2020-12-16 05:43:00-08:00</th>\n",
       "      <td>David 🥸</td>\n",
       "      <td>dvdutch2</td>\n",
       "      <td>#Bitcoin finally broke $20k 😩</td>\n",
       "      <td>609</td>\n",
       "    </tr>\n",
       "    <tr>\n",
       "      <th>...</th>\n",
       "      <td>...</td>\n",
       "      <td>...</td>\n",
       "      <td>...</td>\n",
       "      <td>...</td>\n",
       "    </tr>\n",
       "    <tr>\n",
       "      <th>2020-12-19 03:15:00-08:00</th>\n",
       "      <td>nii bitcoin</td>\n",
       "      <td>bitcoinn7</td>\n",
       "      <td>Free #Bitcoin instantly. I have recover all my...</td>\n",
       "      <td>83</td>\n",
       "    </tr>\n",
       "    <tr>\n",
       "      <th>2020-12-19 03:15:00-08:00</th>\n",
       "      <td>Crypto Revolution Merchandise</td>\n",
       "      <td>CryptoRevolut16</td>\n",
       "      <td>@TheMoonCarl All I want for #Christmas is 10 m...</td>\n",
       "      <td>363</td>\n",
       "    </tr>\n",
       "    <tr>\n",
       "      <th>2020-12-19 03:15:00-08:00</th>\n",
       "      <td>Big Blockers</td>\n",
       "      <td>big_blockers</td>\n",
       "      <td>The current price of Bitcoin is $23036.00.\\nTh...</td>\n",
       "      <td>3059</td>\n",
       "    </tr>\n",
       "    <tr>\n",
       "      <th>2020-12-19 03:15:00-08:00</th>\n",
       "      <td>Sandra Davis</td>\n",
       "      <td>SandraDavis01</td>\n",
       "      <td>@HamillHimself Just received a loan of $50,000...</td>\n",
       "      <td>20</td>\n",
       "    </tr>\n",
       "    <tr>\n",
       "      <th>2020-12-19 03:15:00-08:00</th>\n",
       "      <td>Coinpedia - Fintech News</td>\n",
       "      <td>CoinpediaNews</td>\n",
       "      <td>@TheMoonCarl Now we have a common wish there.😇...</td>\n",
       "      <td>2685</td>\n",
       "    </tr>\n",
       "  </tbody>\n",
       "</table>\n",
       "<p>200000 rows × 4 columns</p>\n",
       "</div>"
      ],
      "text/plain": [
       "                                                    name   Twitter @ name  \\\n",
       "Tweet Datetime                                                              \n",
       "2020-12-16 05:43:00-08:00                  Pablo Lerdo 🪁   PabloLerdoNews   \n",
       "2020-12-16 05:43:00-08:00                Peter Andersson  PeterPeterand88   \n",
       "2020-12-16 05:43:00-08:00                 John Bednarski   john_bednarski   \n",
       "2020-12-16 05:43:00-08:00                Whit GaŁŁimore🔗    WhitGallimore   \n",
       "2020-12-16 05:43:00-08:00                        David 🥸         dvdutch2   \n",
       "...                                                  ...              ...   \n",
       "2020-12-19 03:15:00-08:00                    nii bitcoin        bitcoinn7   \n",
       "2020-12-19 03:15:00-08:00  Crypto Revolution Merchandise  CryptoRevolut16   \n",
       "2020-12-19 03:15:00-08:00                   Big Blockers     big_blockers   \n",
       "2020-12-19 03:15:00-08:00                   Sandra Davis    SandraDavis01   \n",
       "2020-12-19 03:15:00-08:00       Coinpedia - Fintech News    CoinpediaNews   \n",
       "\n",
       "                                                                       Tweet  \\\n",
       "Tweet Datetime                                                                 \n",
       "2020-12-16 05:43:00-08:00                   #Bitcoin just broke the 20,000 !   \n",
       "2020-12-16 05:43:00-08:00  #bitcoin just took the magic 20$k! https://t.c...   \n",
       "2020-12-16 05:43:00-08:00  #Bitcoin hits 2 week high breaking last big re...   \n",
       "2020-12-16 05:43:00-08:00          #bitcoin breaks $20K for the first time!!   \n",
       "2020-12-16 05:43:00-08:00                      #Bitcoin finally broke $20k 😩   \n",
       "...                                                                      ...   \n",
       "2020-12-19 03:15:00-08:00  Free #Bitcoin instantly. I have recover all my...   \n",
       "2020-12-19 03:15:00-08:00  @TheMoonCarl All I want for #Christmas is 10 m...   \n",
       "2020-12-19 03:15:00-08:00  The current price of Bitcoin is $23036.00.\\nTh...   \n",
       "2020-12-19 03:15:00-08:00  @HamillHimself Just received a loan of $50,000...   \n",
       "2020-12-19 03:15:00-08:00  @TheMoonCarl Now we have a common wish there.😇...   \n",
       "\n",
       "                           Follower Count  \n",
       "Tweet Datetime                             \n",
       "2020-12-16 05:43:00-08:00             105  \n",
       "2020-12-16 05:43:00-08:00             423  \n",
       "2020-12-16 05:43:00-08:00             346  \n",
       "2020-12-16 05:43:00-08:00             580  \n",
       "2020-12-16 05:43:00-08:00             609  \n",
       "...                                   ...  \n",
       "2020-12-19 03:15:00-08:00              83  \n",
       "2020-12-19 03:15:00-08:00             363  \n",
       "2020-12-19 03:15:00-08:00            3059  \n",
       "2020-12-19 03:15:00-08:00              20  \n",
       "2020-12-19 03:15:00-08:00            2685  \n",
       "\n",
       "[200000 rows x 4 columns]"
      ]
     },
     "execution_count": 10,
     "metadata": {},
     "output_type": "execute_result"
    }
   ],
   "source": [
    "# Sorting Tweet Datetime column by ascending order \n",
    "\n",
    "t_df.sort_values(by='Tweet Datetime',ascending=True, inplace=True)\n",
    "t_df"
   ]
  },
  {
   "cell_type": "code",
   "execution_count": 11,
   "metadata": {
    "ExecuteTime": {
     "end_time": "2020-12-22T07:43:38.383084Z",
     "start_time": "2020-12-22T07:43:38.334404Z"
    }
   },
   "outputs": [
    {
     "data": {
      "text/html": [
       "<div>\n",
       "<style scoped>\n",
       "    .dataframe tbody tr th:only-of-type {\n",
       "        vertical-align: middle;\n",
       "    }\n",
       "\n",
       "    .dataframe tbody tr th {\n",
       "        vertical-align: top;\n",
       "    }\n",
       "\n",
       "    .dataframe thead th {\n",
       "        text-align: right;\n",
       "    }\n",
       "</style>\n",
       "<table border=\"1\" class=\"dataframe\">\n",
       "  <thead>\n",
       "    <tr style=\"text-align: right;\">\n",
       "      <th></th>\n",
       "      <th>name</th>\n",
       "      <th>Twitter @ name</th>\n",
       "      <th>Tweet</th>\n",
       "      <th>Follower Count</th>\n",
       "    </tr>\n",
       "    <tr>\n",
       "      <th>Tweet Datetime</th>\n",
       "      <th></th>\n",
       "      <th></th>\n",
       "      <th></th>\n",
       "      <th></th>\n",
       "    </tr>\n",
       "  </thead>\n",
       "  <tbody>\n",
       "    <tr>\n",
       "      <th>2020-12-18 02:36:00-08:00</th>\n",
       "      <td>꧁Marin꧂</td>\n",
       "      <td>pick_corn</td>\n",
       "      <td>$btc #btc #bitcoin $eth $bnb $cover $ppt $vidt...</td>\n",
       "      <td>1036</td>\n",
       "    </tr>\n",
       "    <tr>\n",
       "      <th>2020-12-18 02:36:00-08:00</th>\n",
       "      <td>Feras_Y</td>\n",
       "      <td>FeraSY1</td>\n",
       "      <td>#Bitcoin\\nImagine that $Btc can crash 3000$ do...</td>\n",
       "      <td>20720</td>\n",
       "    </tr>\n",
       "    <tr>\n",
       "      <th>2020-12-18 02:36:00-08:00</th>\n",
       "      <td>𝒯𝒽𝒾𝓃𝑒 𝔾 🌞</td>\n",
       "      <td>Desthin21</td>\n",
       "      <td>@bitwala Bitcoin operates universally, meaning...</td>\n",
       "      <td>2108</td>\n",
       "    </tr>\n",
       "    <tr>\n",
       "      <th>2020-12-18 02:36:00-08:00</th>\n",
       "      <td>Mac</td>\n",
       "      <td>MindsetBitcoin</td>\n",
       "      <td>Who you follow on Twitter can change your life...</td>\n",
       "      <td>30</td>\n",
       "    </tr>\n",
       "    <tr>\n",
       "      <th>2020-12-18 02:36:00-08:00</th>\n",
       "      <td>TRON AGE</td>\n",
       "      <td>tron_age</td>\n",
       "      <td>I'm not buying Bitcoin! I'm investing in UK sh...</td>\n",
       "      <td>7237</td>\n",
       "    </tr>\n",
       "    <tr>\n",
       "      <th>...</th>\n",
       "      <td>...</td>\n",
       "      <td>...</td>\n",
       "      <td>...</td>\n",
       "      <td>...</td>\n",
       "    </tr>\n",
       "    <tr>\n",
       "      <th>2020-12-19 03:15:00-08:00</th>\n",
       "      <td>nii bitcoin</td>\n",
       "      <td>bitcoinn7</td>\n",
       "      <td>Free #Bitcoin instantly. I have recover all my...</td>\n",
       "      <td>83</td>\n",
       "    </tr>\n",
       "    <tr>\n",
       "      <th>2020-12-19 03:15:00-08:00</th>\n",
       "      <td>Crypto Revolution Merchandise</td>\n",
       "      <td>CryptoRevolut16</td>\n",
       "      <td>@TheMoonCarl All I want for #Christmas is 10 m...</td>\n",
       "      <td>363</td>\n",
       "    </tr>\n",
       "    <tr>\n",
       "      <th>2020-12-19 03:15:00-08:00</th>\n",
       "      <td>Big Blockers</td>\n",
       "      <td>big_blockers</td>\n",
       "      <td>The current price of Bitcoin is $23036.00.\\nTh...</td>\n",
       "      <td>3059</td>\n",
       "    </tr>\n",
       "    <tr>\n",
       "      <th>2020-12-19 03:15:00-08:00</th>\n",
       "      <td>Sandra Davis</td>\n",
       "      <td>SandraDavis01</td>\n",
       "      <td>@HamillHimself Just received a loan of $50,000...</td>\n",
       "      <td>20</td>\n",
       "    </tr>\n",
       "    <tr>\n",
       "      <th>2020-12-19 03:15:00-08:00</th>\n",
       "      <td>Coinpedia - Fintech News</td>\n",
       "      <td>CoinpediaNews</td>\n",
       "      <td>@TheMoonCarl Now we have a common wish there.😇...</td>\n",
       "      <td>2685</td>\n",
       "    </tr>\n",
       "  </tbody>\n",
       "</table>\n",
       "<p>43271 rows × 4 columns</p>\n",
       "</div>"
      ],
      "text/plain": [
       "                                                    name   Twitter @ name  \\\n",
       "Tweet Datetime                                                              \n",
       "2020-12-18 02:36:00-08:00                        ꧁Marin꧂        pick_corn   \n",
       "2020-12-18 02:36:00-08:00                        Feras_Y          FeraSY1   \n",
       "2020-12-18 02:36:00-08:00                      𝒯𝒽𝒾𝓃𝑒 𝔾 🌞        Desthin21   \n",
       "2020-12-18 02:36:00-08:00                            Mac   MindsetBitcoin   \n",
       "2020-12-18 02:36:00-08:00                       TRON AGE         tron_age   \n",
       "...                                                  ...              ...   \n",
       "2020-12-19 03:15:00-08:00                    nii bitcoin        bitcoinn7   \n",
       "2020-12-19 03:15:00-08:00  Crypto Revolution Merchandise  CryptoRevolut16   \n",
       "2020-12-19 03:15:00-08:00                   Big Blockers     big_blockers   \n",
       "2020-12-19 03:15:00-08:00                   Sandra Davis    SandraDavis01   \n",
       "2020-12-19 03:15:00-08:00       Coinpedia - Fintech News    CoinpediaNews   \n",
       "\n",
       "                                                                       Tweet  \\\n",
       "Tweet Datetime                                                                 \n",
       "2020-12-18 02:36:00-08:00  $btc #btc #bitcoin $eth $bnb $cover $ppt $vidt...   \n",
       "2020-12-18 02:36:00-08:00  #Bitcoin\\nImagine that $Btc can crash 3000$ do...   \n",
       "2020-12-18 02:36:00-08:00  @bitwala Bitcoin operates universally, meaning...   \n",
       "2020-12-18 02:36:00-08:00  Who you follow on Twitter can change your life...   \n",
       "2020-12-18 02:36:00-08:00  I'm not buying Bitcoin! I'm investing in UK sh...   \n",
       "...                                                                      ...   \n",
       "2020-12-19 03:15:00-08:00  Free #Bitcoin instantly. I have recover all my...   \n",
       "2020-12-19 03:15:00-08:00  @TheMoonCarl All I want for #Christmas is 10 m...   \n",
       "2020-12-19 03:15:00-08:00  The current price of Bitcoin is $23036.00.\\nTh...   \n",
       "2020-12-19 03:15:00-08:00  @HamillHimself Just received a loan of $50,000...   \n",
       "2020-12-19 03:15:00-08:00  @TheMoonCarl Now we have a common wish there.😇...   \n",
       "\n",
       "                           Follower Count  \n",
       "Tweet Datetime                             \n",
       "2020-12-18 02:36:00-08:00            1036  \n",
       "2020-12-18 02:36:00-08:00           20720  \n",
       "2020-12-18 02:36:00-08:00            2108  \n",
       "2020-12-18 02:36:00-08:00              30  \n",
       "2020-12-18 02:36:00-08:00            7237  \n",
       "...                                   ...  \n",
       "2020-12-19 03:15:00-08:00              83  \n",
       "2020-12-19 03:15:00-08:00             363  \n",
       "2020-12-19 03:15:00-08:00            3059  \n",
       "2020-12-19 03:15:00-08:00              20  \n",
       "2020-12-19 03:15:00-08:00            2685  \n",
       "\n",
       "[43271 rows x 4 columns]"
      ]
     },
     "execution_count": 11,
     "metadata": {},
     "output_type": "execute_result"
    }
   ],
   "source": [
    "# extracting only tweets that correspond to the Bitcoin dataframe\n",
    "\n",
    "t_df = t_df.loc[\"2020-12-18 02:36:00\":\"2020-12-19 03:15:00\"]\n",
    "t_df"
   ]
  },
  {
   "cell_type": "code",
   "execution_count": 12,
   "metadata": {
    "ExecuteTime": {
     "end_time": "2020-12-22T07:43:40.794565Z",
     "start_time": "2020-12-22T07:43:40.766656Z"
    }
   },
   "outputs": [
    {
     "name": "stderr",
     "output_type": "stream",
     "text": [
      "C:\\Users\\kiano\\anaconda3\\lib\\site-packages\\pandas\\core\\frame.py:3990: SettingWithCopyWarning: \n",
      "A value is trying to be set on a copy of a slice from a DataFrame\n",
      "\n",
      "See the caveats in the documentation: https://pandas.pydata.org/pandas-docs/stable/user_guide/indexing.html#returning-a-view-versus-a-copy\n",
      "  return super().drop(\n"
     ]
    },
    {
     "data": {
      "text/html": [
       "<div>\n",
       "<style scoped>\n",
       "    .dataframe tbody tr th:only-of-type {\n",
       "        vertical-align: middle;\n",
       "    }\n",
       "\n",
       "    .dataframe tbody tr th {\n",
       "        vertical-align: top;\n",
       "    }\n",
       "\n",
       "    .dataframe thead th {\n",
       "        text-align: right;\n",
       "    }\n",
       "</style>\n",
       "<table border=\"1\" class=\"dataframe\">\n",
       "  <thead>\n",
       "    <tr style=\"text-align: right;\">\n",
       "      <th></th>\n",
       "      <th>Tweet</th>\n",
       "    </tr>\n",
       "    <tr>\n",
       "      <th>Tweet Datetime</th>\n",
       "      <th></th>\n",
       "    </tr>\n",
       "  </thead>\n",
       "  <tbody>\n",
       "    <tr>\n",
       "      <th>2020-12-18 02:36:00-08:00</th>\n",
       "      <td>$btc #btc #bitcoin $eth $bnb $cover $ppt $vidt...</td>\n",
       "    </tr>\n",
       "    <tr>\n",
       "      <th>2020-12-18 02:36:00-08:00</th>\n",
       "      <td>#Bitcoin\\nImagine that $Btc can crash 3000$ do...</td>\n",
       "    </tr>\n",
       "    <tr>\n",
       "      <th>2020-12-18 02:36:00-08:00</th>\n",
       "      <td>@bitwala Bitcoin operates universally, meaning...</td>\n",
       "    </tr>\n",
       "    <tr>\n",
       "      <th>2020-12-18 02:36:00-08:00</th>\n",
       "      <td>Who you follow on Twitter can change your life...</td>\n",
       "    </tr>\n",
       "    <tr>\n",
       "      <th>2020-12-18 02:36:00-08:00</th>\n",
       "      <td>I'm not buying Bitcoin! I'm investing in UK sh...</td>\n",
       "    </tr>\n",
       "    <tr>\n",
       "      <th>...</th>\n",
       "      <td>...</td>\n",
       "    </tr>\n",
       "    <tr>\n",
       "      <th>2020-12-19 03:15:00-08:00</th>\n",
       "      <td>Free #Bitcoin instantly. I have recover all my...</td>\n",
       "    </tr>\n",
       "    <tr>\n",
       "      <th>2020-12-19 03:15:00-08:00</th>\n",
       "      <td>@TheMoonCarl All I want for #Christmas is 10 m...</td>\n",
       "    </tr>\n",
       "    <tr>\n",
       "      <th>2020-12-19 03:15:00-08:00</th>\n",
       "      <td>The current price of Bitcoin is $23036.00.\\nTh...</td>\n",
       "    </tr>\n",
       "    <tr>\n",
       "      <th>2020-12-19 03:15:00-08:00</th>\n",
       "      <td>@HamillHimself Just received a loan of $50,000...</td>\n",
       "    </tr>\n",
       "    <tr>\n",
       "      <th>2020-12-19 03:15:00-08:00</th>\n",
       "      <td>@TheMoonCarl Now we have a common wish there.😇...</td>\n",
       "    </tr>\n",
       "  </tbody>\n",
       "</table>\n",
       "<p>43271 rows × 1 columns</p>\n",
       "</div>"
      ],
      "text/plain": [
       "                                                                       Tweet\n",
       "Tweet Datetime                                                              \n",
       "2020-12-18 02:36:00-08:00  $btc #btc #bitcoin $eth $bnb $cover $ppt $vidt...\n",
       "2020-12-18 02:36:00-08:00  #Bitcoin\\nImagine that $Btc can crash 3000$ do...\n",
       "2020-12-18 02:36:00-08:00  @bitwala Bitcoin operates universally, meaning...\n",
       "2020-12-18 02:36:00-08:00  Who you follow on Twitter can change your life...\n",
       "2020-12-18 02:36:00-08:00  I'm not buying Bitcoin! I'm investing in UK sh...\n",
       "...                                                                      ...\n",
       "2020-12-19 03:15:00-08:00  Free #Bitcoin instantly. I have recover all my...\n",
       "2020-12-19 03:15:00-08:00  @TheMoonCarl All I want for #Christmas is 10 m...\n",
       "2020-12-19 03:15:00-08:00  The current price of Bitcoin is $23036.00.\\nTh...\n",
       "2020-12-19 03:15:00-08:00  @HamillHimself Just received a loan of $50,000...\n",
       "2020-12-19 03:15:00-08:00  @TheMoonCarl Now we have a common wish there.😇...\n",
       "\n",
       "[43271 rows x 1 columns]"
      ]
     },
     "execution_count": 12,
     "metadata": {},
     "output_type": "execute_result"
    }
   ],
   "source": [
    "# extract only the relevant columns\n",
    "\n",
    "t_df.drop(['name','Twitter @ name', 'Follower Count'], 1, inplace=True)\n",
    "t_df"
   ]
  },
  {
   "cell_type": "markdown",
   "metadata": {},
   "source": [
    "A big part of natural langauge processing is cleaning the text. Unnecessary characters or punctuation hinder the computer's ability to assign a sentiment. "
   ]
  },
  {
   "cell_type": "code",
   "execution_count": 13,
   "metadata": {
    "ExecuteTime": {
     "end_time": "2020-12-22T07:43:43.046659Z",
     "start_time": "2020-12-22T07:43:43.029735Z"
    }
   },
   "outputs": [],
   "source": [
    "def cleanTxt(text):\n",
    "    \"\"\" \n",
    "    function to clean the tweets \n",
    "    \"\"\"\n",
    "    text = re.sub(r'@[a-zA-Z0-9]+', '', text) # removes @mention\n",
    "    text = re.sub(r'#', '', text) # removes '#' symbol \n",
    "    text = re.sub(r'https?:\\/\\/\\S+', '', text) # removes hyperlink\n",
    "    text = re.sub(r'[^\\w\\s]', '', text) #removes punctuation\n",
    "    text = re.sub(\"^\\d+\\s|\\s\\d+\\s|\\s\\d+$\", '', text) # removes numbers\n",
    "    text = text.lower() # converts text to lowercase \n",
    "    return text"
   ]
  },
  {
   "cell_type": "code",
   "execution_count": 14,
   "metadata": {
    "ExecuteTime": {
     "end_time": "2020-12-22T07:43:45.275661Z",
     "start_time": "2020-12-22T07:43:44.758688Z"
    },
    "scrolled": false
   },
   "outputs": [
    {
     "name": "stderr",
     "output_type": "stream",
     "text": [
      "<ipython-input-14-6039cfbfb5b6>:3: SettingWithCopyWarning: \n",
      "A value is trying to be set on a copy of a slice from a DataFrame.\n",
      "Try using .loc[row_indexer,col_indexer] = value instead\n",
      "\n",
      "See the caveats in the documentation: https://pandas.pydata.org/pandas-docs/stable/user_guide/indexing.html#returning-a-view-versus-a-copy\n",
      "  t_df['Tweet'] = t_df['Tweet'].apply(cleanTxt)\n"
     ]
    },
    {
     "data": {
      "text/html": [
       "<div>\n",
       "<style scoped>\n",
       "    .dataframe tbody tr th:only-of-type {\n",
       "        vertical-align: middle;\n",
       "    }\n",
       "\n",
       "    .dataframe tbody tr th {\n",
       "        vertical-align: top;\n",
       "    }\n",
       "\n",
       "    .dataframe thead th {\n",
       "        text-align: right;\n",
       "    }\n",
       "</style>\n",
       "<table border=\"1\" class=\"dataframe\">\n",
       "  <thead>\n",
       "    <tr style=\"text-align: right;\">\n",
       "      <th></th>\n",
       "      <th>Tweet</th>\n",
       "    </tr>\n",
       "    <tr>\n",
       "      <th>Tweet Datetime</th>\n",
       "      <th></th>\n",
       "    </tr>\n",
       "  </thead>\n",
       "  <tbody>\n",
       "    <tr>\n",
       "      <th>2020-12-18 02:36:00-08:00</th>\n",
       "      <td>btc btc bitcoin eth bnb cover ppt vidt link arp</td>\n",
       "    </tr>\n",
       "    <tr>\n",
       "      <th>2020-12-18 02:36:00-08:00</th>\n",
       "      <td>bitcoin\\nimagine that btc can crashdown and st...</td>\n",
       "    </tr>\n",
       "    <tr>\n",
       "      <th>2020-12-18 02:36:00-08:00</th>\n",
       "      <td>bitcoin operates universally meaning for the ...</td>\n",
       "    </tr>\n",
       "    <tr>\n",
       "      <th>2020-12-18 02:36:00-08:00</th>\n",
       "      <td>who you follow on twitter can change your life...</td>\n",
       "    </tr>\n",
       "    <tr>\n",
       "      <th>2020-12-18 02:36:00-08:00</th>\n",
       "      <td>im not buying bitcoin im investing in uk share...</td>\n",
       "    </tr>\n",
       "    <tr>\n",
       "      <th>...</th>\n",
       "      <td>...</td>\n",
       "    </tr>\n",
       "    <tr>\n",
       "      <th>2020-12-19 03:15:00-08:00</th>\n",
       "      <td>free bitcoin instantly i have recover all my s...</td>\n",
       "    </tr>\n",
       "    <tr>\n",
       "      <th>2020-12-19 03:15:00-08:00</th>\n",
       "      <td>all i want for christmas ismore bitcoin pleee...</td>\n",
       "    </tr>\n",
       "    <tr>\n",
       "      <th>2020-12-19 03:15:00-08:00</th>\n",
       "      <td>the current price of bitcoin isthe current pri...</td>\n",
       "    </tr>\n",
       "    <tr>\n",
       "      <th>2020-12-19 03:15:00-08:00</th>\n",
       "      <td>just received a loan ofworth of bitcoin from ...</td>\n",
       "    </tr>\n",
       "    <tr>\n",
       "      <th>2020-12-19 03:15:00-08:00</th>\n",
       "      <td>now we have a common wish there\\n\\nbitcoin  at</td>\n",
       "    </tr>\n",
       "  </tbody>\n",
       "</table>\n",
       "<p>43271 rows × 1 columns</p>\n",
       "</div>"
      ],
      "text/plain": [
       "                                                                       Tweet\n",
       "Tweet Datetime                                                              \n",
       "2020-12-18 02:36:00-08:00   btc btc bitcoin eth bnb cover ppt vidt link arp \n",
       "2020-12-18 02:36:00-08:00  bitcoin\\nimagine that btc can crashdown and st...\n",
       "2020-12-18 02:36:00-08:00   bitcoin operates universally meaning for the ...\n",
       "2020-12-18 02:36:00-08:00  who you follow on twitter can change your life...\n",
       "2020-12-18 02:36:00-08:00  im not buying bitcoin im investing in uk share...\n",
       "...                                                                      ...\n",
       "2020-12-19 03:15:00-08:00  free bitcoin instantly i have recover all my s...\n",
       "2020-12-19 03:15:00-08:00   all i want for christmas ismore bitcoin pleee...\n",
       "2020-12-19 03:15:00-08:00  the current price of bitcoin isthe current pri...\n",
       "2020-12-19 03:15:00-08:00   just received a loan ofworth of bitcoin from ...\n",
       "2020-12-19 03:15:00-08:00     now we have a common wish there\\n\\nbitcoin  at\n",
       "\n",
       "[43271 rows x 1 columns]"
      ]
     },
     "execution_count": 14,
     "metadata": {},
     "output_type": "execute_result"
    }
   ],
   "source": [
    "# cleaning the tweets\n",
    "\n",
    "t_df['Tweet'] = t_df['Tweet'].apply(cleanTxt)\n",
    "t_df"
   ]
  },
  {
   "cell_type": "markdown",
   "metadata": {},
   "source": [
    "Below a word cloud is used to visualize the tweets."
   ]
  },
  {
   "cell_type": "code",
   "execution_count": 15,
   "metadata": {
    "ExecuteTime": {
     "end_time": "2020-12-22T07:43:50.661377Z",
     "start_time": "2020-12-22T07:43:47.767020Z"
    }
   },
   "outputs": [
    {
     "data": {
      "text/plain": [
       "<function matplotlib.pyplot.show(*args, **kw)>"
      ]
     },
     "execution_count": 15,
     "metadata": {},
     "output_type": "execute_result"
    },
    {
     "data": {
      "image/png": "[encoded data removed]",
      "text/plain": [
       "<Figure size 432x288 with 1 Axes>"
      ]
     },
     "metadata": {},
     "output_type": "display_data"
    }
   ],
   "source": [
    "allWords = ''.join([twts for twts in t_df['Tweet']])\n",
    "wordCloud = WordCloud(width=500, height=300, random_state=21, max_font_size=119).generate(allWords)\n",
    "\n",
    "plt.imshow(wordCloud, interpolation='bilinear')\n",
    "plt.axis('off')\n",
    "plt.show"
   ]
  },
  {
   "cell_type": "markdown",
   "metadata": {},
   "source": [
    "### Cleaning Bitcoin Data"
   ]
  },
  {
   "cell_type": "code",
   "execution_count": 16,
   "metadata": {
    "ExecuteTime": {
     "end_time": "2020-12-22T07:43:52.465292Z",
     "start_time": "2020-12-22T07:43:52.446375Z"
    }
   },
   "outputs": [
    {
     "data": {
      "text/html": [
       "<div>\n",
       "<style scoped>\n",
       "    .dataframe tbody tr th:only-of-type {\n",
       "        vertical-align: middle;\n",
       "    }\n",
       "\n",
       "    .dataframe tbody tr th {\n",
       "        vertical-align: top;\n",
       "    }\n",
       "\n",
       "    .dataframe thead th {\n",
       "        text-align: right;\n",
       "    }\n",
       "</style>\n",
       "<table border=\"1\" class=\"dataframe\">\n",
       "  <thead>\n",
       "    <tr style=\"text-align: right;\">\n",
       "      <th></th>\n",
       "      <th>high</th>\n",
       "      <th>low</th>\n",
       "      <th>open</th>\n",
       "      <th>volumefrom</th>\n",
       "      <th>volumeto</th>\n",
       "      <th>close</th>\n",
       "      <th>conversionType</th>\n",
       "      <th>conversionSymbol</th>\n",
       "    </tr>\n",
       "    <tr>\n",
       "      <th>time</th>\n",
       "      <th></th>\n",
       "      <th></th>\n",
       "      <th></th>\n",
       "      <th></th>\n",
       "      <th></th>\n",
       "      <th></th>\n",
       "      <th></th>\n",
       "      <th></th>\n",
       "    </tr>\n",
       "  </thead>\n",
       "  <tbody>\n",
       "    <tr>\n",
       "      <th>2020-12-18 02:35:00-08:00</th>\n",
       "      <td>18937.57</td>\n",
       "      <td>18931.09</td>\n",
       "      <td>18932.04</td>\n",
       "      <td>2.006</td>\n",
       "      <td>38005.00</td>\n",
       "      <td>18937.00</td>\n",
       "      <td>direct</td>\n",
       "      <td>NaN</td>\n",
       "    </tr>\n",
       "    <tr>\n",
       "      <th>2020-12-18 02:36:00-08:00</th>\n",
       "      <td>18949.26</td>\n",
       "      <td>18937.00</td>\n",
       "      <td>18937.00</td>\n",
       "      <td>13.950</td>\n",
       "      <td>264446.47</td>\n",
       "      <td>18941.69</td>\n",
       "      <td>direct</td>\n",
       "      <td>NaN</td>\n",
       "    </tr>\n",
       "    <tr>\n",
       "      <th>2020-12-18 02:37:00-08:00</th>\n",
       "      <td>18941.69</td>\n",
       "      <td>18898.19</td>\n",
       "      <td>18941.69</td>\n",
       "      <td>10.750</td>\n",
       "      <td>203493.68</td>\n",
       "      <td>18898.25</td>\n",
       "      <td>direct</td>\n",
       "      <td>NaN</td>\n",
       "    </tr>\n",
       "    <tr>\n",
       "      <th>2020-12-18 02:38:00-08:00</th>\n",
       "      <td>18911.28</td>\n",
       "      <td>18897.02</td>\n",
       "      <td>18898.25</td>\n",
       "      <td>3.184</td>\n",
       "      <td>60152.75</td>\n",
       "      <td>18911.28</td>\n",
       "      <td>direct</td>\n",
       "      <td>NaN</td>\n",
       "    </tr>\n",
       "    <tr>\n",
       "      <th>2020-12-18 02:39:00-08:00</th>\n",
       "      <td>18903.05</td>\n",
       "      <td>18896.66</td>\n",
       "      <td>18903.37</td>\n",
       "      <td>64.820</td>\n",
       "      <td>1225065.77</td>\n",
       "      <td>18899.50</td>\n",
       "      <td>invert_divide</td>\n",
       "      <td>ETH</td>\n",
       "    </tr>\n",
       "    <tr>\n",
       "      <th>...</th>\n",
       "      <td>...</td>\n",
       "      <td>...</td>\n",
       "      <td>...</td>\n",
       "      <td>...</td>\n",
       "      <td>...</td>\n",
       "      <td>...</td>\n",
       "      <td>...</td>\n",
       "      <td>...</td>\n",
       "    </tr>\n",
       "    <tr>\n",
       "      <th>2020-12-19 11:51:00-08:00</th>\n",
       "      <td>18713.63</td>\n",
       "      <td>18698.01</td>\n",
       "      <td>18698.01</td>\n",
       "      <td>2.955</td>\n",
       "      <td>55302.19</td>\n",
       "      <td>18712.78</td>\n",
       "      <td>direct</td>\n",
       "      <td>NaN</td>\n",
       "    </tr>\n",
       "    <tr>\n",
       "      <th>2020-12-19 11:52:00-08:00</th>\n",
       "      <td>18717.61</td>\n",
       "      <td>18709.04</td>\n",
       "      <td>18712.78</td>\n",
       "      <td>1.694</td>\n",
       "      <td>31725.34</td>\n",
       "      <td>18709.25</td>\n",
       "      <td>direct</td>\n",
       "      <td>NaN</td>\n",
       "    </tr>\n",
       "    <tr>\n",
       "      <th>2020-12-19 11:53:00-08:00</th>\n",
       "      <td>18715.55</td>\n",
       "      <td>18709.25</td>\n",
       "      <td>18709.25</td>\n",
       "      <td>3.718</td>\n",
       "      <td>69624.41</td>\n",
       "      <td>18714.26</td>\n",
       "      <td>direct</td>\n",
       "      <td>NaN</td>\n",
       "    </tr>\n",
       "    <tr>\n",
       "      <th>2020-12-19 11:54:00-08:00</th>\n",
       "      <td>18722.87</td>\n",
       "      <td>18713.24</td>\n",
       "      <td>18714.26</td>\n",
       "      <td>1.879</td>\n",
       "      <td>35188.78</td>\n",
       "      <td>18720.58</td>\n",
       "      <td>direct</td>\n",
       "      <td>NaN</td>\n",
       "    </tr>\n",
       "    <tr>\n",
       "      <th>2020-12-19 11:55:00-08:00</th>\n",
       "      <td>18720.58</td>\n",
       "      <td>18719.39</td>\n",
       "      <td>18720.58</td>\n",
       "      <td>0.000</td>\n",
       "      <td>0.00</td>\n",
       "      <td>18719.39</td>\n",
       "      <td>direct</td>\n",
       "      <td>NaN</td>\n",
       "    </tr>\n",
       "  </tbody>\n",
       "</table>\n",
       "<p>2001 rows × 8 columns</p>\n",
       "</div>"
      ],
      "text/plain": [
       "                               high       low      open  volumefrom  \\\n",
       "time                                                                  \n",
       "2020-12-18 02:35:00-08:00  18937.57  18931.09  18932.04       2.006   \n",
       "2020-12-18 02:36:00-08:00  18949.26  18937.00  18937.00      13.950   \n",
       "2020-12-18 02:37:00-08:00  18941.69  18898.19  18941.69      10.750   \n",
       "2020-12-18 02:38:00-08:00  18911.28  18897.02  18898.25       3.184   \n",
       "2020-12-18 02:39:00-08:00  18903.05  18896.66  18903.37      64.820   \n",
       "...                             ...       ...       ...         ...   \n",
       "2020-12-19 11:51:00-08:00  18713.63  18698.01  18698.01       2.955   \n",
       "2020-12-19 11:52:00-08:00  18717.61  18709.04  18712.78       1.694   \n",
       "2020-12-19 11:53:00-08:00  18715.55  18709.25  18709.25       3.718   \n",
       "2020-12-19 11:54:00-08:00  18722.87  18713.24  18714.26       1.879   \n",
       "2020-12-19 11:55:00-08:00  18720.58  18719.39  18720.58       0.000   \n",
       "\n",
       "                             volumeto     close conversionType  \\\n",
       "time                                                             \n",
       "2020-12-18 02:35:00-08:00    38005.00  18937.00         direct   \n",
       "2020-12-18 02:36:00-08:00   264446.47  18941.69         direct   \n",
       "2020-12-18 02:37:00-08:00   203493.68  18898.25         direct   \n",
       "2020-12-18 02:38:00-08:00    60152.75  18911.28         direct   \n",
       "2020-12-18 02:39:00-08:00  1225065.77  18899.50  invert_divide   \n",
       "...                               ...       ...            ...   \n",
       "2020-12-19 11:51:00-08:00    55302.19  18712.78         direct   \n",
       "2020-12-19 11:52:00-08:00    31725.34  18709.25         direct   \n",
       "2020-12-19 11:53:00-08:00    69624.41  18714.26         direct   \n",
       "2020-12-19 11:54:00-08:00    35188.78  18720.58         direct   \n",
       "2020-12-19 11:55:00-08:00        0.00  18719.39         direct   \n",
       "\n",
       "                          conversionSymbol  \n",
       "time                                        \n",
       "2020-12-18 02:35:00-08:00              NaN  \n",
       "2020-12-18 02:36:00-08:00              NaN  \n",
       "2020-12-18 02:37:00-08:00              NaN  \n",
       "2020-12-18 02:38:00-08:00              NaN  \n",
       "2020-12-18 02:39:00-08:00              ETH  \n",
       "...                                    ...  \n",
       "2020-12-19 11:51:00-08:00              NaN  \n",
       "2020-12-19 11:52:00-08:00              NaN  \n",
       "2020-12-19 11:53:00-08:00              NaN  \n",
       "2020-12-19 11:54:00-08:00              NaN  \n",
       "2020-12-19 11:55:00-08:00              NaN  \n",
       "\n",
       "[2001 rows x 8 columns]"
      ]
     },
     "execution_count": 16,
     "metadata": {},
     "output_type": "execute_result"
    }
   ],
   "source": [
    "# As done with the twitter dataframe, \n",
    "# the Bitcoin dataframe is also converted to Pacific Standard Time: \n",
    "\n",
    "b_df.index = b_df.index.tz_localize('America/Los_Angeles')    \n",
    "b_df"
   ]
  },
  {
   "cell_type": "code",
   "execution_count": 17,
   "metadata": {
    "ExecuteTime": {
     "end_time": "2020-12-22T07:43:54.781917Z",
     "start_time": "2020-12-22T07:43:54.750184Z"
    },
    "scrolled": false
   },
   "outputs": [
    {
     "data": {
      "text/html": [
       "<div>\n",
       "<style scoped>\n",
       "    .dataframe tbody tr th:only-of-type {\n",
       "        vertical-align: middle;\n",
       "    }\n",
       "\n",
       "    .dataframe tbody tr th {\n",
       "        vertical-align: top;\n",
       "    }\n",
       "\n",
       "    .dataframe thead th {\n",
       "        text-align: right;\n",
       "    }\n",
       "</style>\n",
       "<table border=\"1\" class=\"dataframe\">\n",
       "  <thead>\n",
       "    <tr style=\"text-align: right;\">\n",
       "      <th></th>\n",
       "      <th>high</th>\n",
       "      <th>low</th>\n",
       "      <th>open</th>\n",
       "      <th>volumefrom</th>\n",
       "      <th>volumeto</th>\n",
       "      <th>close</th>\n",
       "      <th>conversionType</th>\n",
       "      <th>conversionSymbol</th>\n",
       "    </tr>\n",
       "    <tr>\n",
       "      <th>time</th>\n",
       "      <th></th>\n",
       "      <th></th>\n",
       "      <th></th>\n",
       "      <th></th>\n",
       "      <th></th>\n",
       "      <th></th>\n",
       "      <th></th>\n",
       "      <th></th>\n",
       "    </tr>\n",
       "  </thead>\n",
       "  <tbody>\n",
       "    <tr>\n",
       "      <th>2020-12-18 02:36:00-08:00</th>\n",
       "      <td>18949.26</td>\n",
       "      <td>18937.00</td>\n",
       "      <td>18937.00</td>\n",
       "      <td>13.950</td>\n",
       "      <td>264446.47</td>\n",
       "      <td>18941.69</td>\n",
       "      <td>direct</td>\n",
       "      <td>NaN</td>\n",
       "    </tr>\n",
       "    <tr>\n",
       "      <th>2020-12-18 02:37:00-08:00</th>\n",
       "      <td>18941.69</td>\n",
       "      <td>18898.19</td>\n",
       "      <td>18941.69</td>\n",
       "      <td>10.750</td>\n",
       "      <td>203493.68</td>\n",
       "      <td>18898.25</td>\n",
       "      <td>direct</td>\n",
       "      <td>NaN</td>\n",
       "    </tr>\n",
       "    <tr>\n",
       "      <th>2020-12-18 02:38:00-08:00</th>\n",
       "      <td>18911.28</td>\n",
       "      <td>18897.02</td>\n",
       "      <td>18898.25</td>\n",
       "      <td>3.184</td>\n",
       "      <td>60152.75</td>\n",
       "      <td>18911.28</td>\n",
       "      <td>direct</td>\n",
       "      <td>NaN</td>\n",
       "    </tr>\n",
       "    <tr>\n",
       "      <th>2020-12-18 02:39:00-08:00</th>\n",
       "      <td>18903.05</td>\n",
       "      <td>18896.66</td>\n",
       "      <td>18903.37</td>\n",
       "      <td>64.820</td>\n",
       "      <td>1225065.77</td>\n",
       "      <td>18899.50</td>\n",
       "      <td>invert_divide</td>\n",
       "      <td>ETH</td>\n",
       "    </tr>\n",
       "    <tr>\n",
       "      <th>2020-12-18 02:40:00-08:00</th>\n",
       "      <td>18914.66</td>\n",
       "      <td>18897.75</td>\n",
       "      <td>18912.70</td>\n",
       "      <td>2.594</td>\n",
       "      <td>49064.10</td>\n",
       "      <td>18897.75</td>\n",
       "      <td>direct</td>\n",
       "      <td>NaN</td>\n",
       "    </tr>\n",
       "    <tr>\n",
       "      <th>...</th>\n",
       "      <td>...</td>\n",
       "      <td>...</td>\n",
       "      <td>...</td>\n",
       "      <td>...</td>\n",
       "      <td>...</td>\n",
       "      <td>...</td>\n",
       "      <td>...</td>\n",
       "      <td>...</td>\n",
       "    </tr>\n",
       "    <tr>\n",
       "      <th>2020-12-19 03:11:00-08:00</th>\n",
       "      <td>18903.71</td>\n",
       "      <td>18897.22</td>\n",
       "      <td>18897.22</td>\n",
       "      <td>2.568</td>\n",
       "      <td>48528.43</td>\n",
       "      <td>18901.25</td>\n",
       "      <td>direct</td>\n",
       "      <td>NaN</td>\n",
       "    </tr>\n",
       "    <tr>\n",
       "      <th>2020-12-19 03:12:00-08:00</th>\n",
       "      <td>18907.36</td>\n",
       "      <td>18901.25</td>\n",
       "      <td>18901.25</td>\n",
       "      <td>8.306</td>\n",
       "      <td>156973.64</td>\n",
       "      <td>18905.73</td>\n",
       "      <td>direct</td>\n",
       "      <td>NaN</td>\n",
       "    </tr>\n",
       "    <tr>\n",
       "      <th>2020-12-19 03:13:00-08:00</th>\n",
       "      <td>18911.59</td>\n",
       "      <td>18905.00</td>\n",
       "      <td>18905.73</td>\n",
       "      <td>6.503</td>\n",
       "      <td>122942.49</td>\n",
       "      <td>18909.43</td>\n",
       "      <td>direct</td>\n",
       "      <td>NaN</td>\n",
       "    </tr>\n",
       "    <tr>\n",
       "      <th>2020-12-19 03:14:00-08:00</th>\n",
       "      <td>18916.85</td>\n",
       "      <td>18909.43</td>\n",
       "      <td>18909.43</td>\n",
       "      <td>3.146</td>\n",
       "      <td>59476.40</td>\n",
       "      <td>18916.85</td>\n",
       "      <td>direct</td>\n",
       "      <td>NaN</td>\n",
       "    </tr>\n",
       "    <tr>\n",
       "      <th>2020-12-19 03:15:00-08:00</th>\n",
       "      <td>18925.21</td>\n",
       "      <td>18916.85</td>\n",
       "      <td>18916.85</td>\n",
       "      <td>5.169</td>\n",
       "      <td>97774.77</td>\n",
       "      <td>18924.92</td>\n",
       "      <td>direct</td>\n",
       "      <td>NaN</td>\n",
       "    </tr>\n",
       "  </tbody>\n",
       "</table>\n",
       "<p>1480 rows × 8 columns</p>\n",
       "</div>"
      ],
      "text/plain": [
       "                               high       low      open  volumefrom  \\\n",
       "time                                                                  \n",
       "2020-12-18 02:36:00-08:00  18949.26  18937.00  18937.00      13.950   \n",
       "2020-12-18 02:37:00-08:00  18941.69  18898.19  18941.69      10.750   \n",
       "2020-12-18 02:38:00-08:00  18911.28  18897.02  18898.25       3.184   \n",
       "2020-12-18 02:39:00-08:00  18903.05  18896.66  18903.37      64.820   \n",
       "2020-12-18 02:40:00-08:00  18914.66  18897.75  18912.70       2.594   \n",
       "...                             ...       ...       ...         ...   \n",
       "2020-12-19 03:11:00-08:00  18903.71  18897.22  18897.22       2.568   \n",
       "2020-12-19 03:12:00-08:00  18907.36  18901.25  18901.25       8.306   \n",
       "2020-12-19 03:13:00-08:00  18911.59  18905.00  18905.73       6.503   \n",
       "2020-12-19 03:14:00-08:00  18916.85  18909.43  18909.43       3.146   \n",
       "2020-12-19 03:15:00-08:00  18925.21  18916.85  18916.85       5.169   \n",
       "\n",
       "                             volumeto     close conversionType  \\\n",
       "time                                                             \n",
       "2020-12-18 02:36:00-08:00   264446.47  18941.69         direct   \n",
       "2020-12-18 02:37:00-08:00   203493.68  18898.25         direct   \n",
       "2020-12-18 02:38:00-08:00    60152.75  18911.28         direct   \n",
       "2020-12-18 02:39:00-08:00  1225065.77  18899.50  invert_divide   \n",
       "2020-12-18 02:40:00-08:00    49064.10  18897.75         direct   \n",
       "...                               ...       ...            ...   \n",
       "2020-12-19 03:11:00-08:00    48528.43  18901.25         direct   \n",
       "2020-12-19 03:12:00-08:00   156973.64  18905.73         direct   \n",
       "2020-12-19 03:13:00-08:00   122942.49  18909.43         direct   \n",
       "2020-12-19 03:14:00-08:00    59476.40  18916.85         direct   \n",
       "2020-12-19 03:15:00-08:00    97774.77  18924.92         direct   \n",
       "\n",
       "                          conversionSymbol  \n",
       "time                                        \n",
       "2020-12-18 02:36:00-08:00              NaN  \n",
       "2020-12-18 02:37:00-08:00              NaN  \n",
       "2020-12-18 02:38:00-08:00              NaN  \n",
       "2020-12-18 02:39:00-08:00              ETH  \n",
       "2020-12-18 02:40:00-08:00              NaN  \n",
       "...                                    ...  \n",
       "2020-12-19 03:11:00-08:00              NaN  \n",
       "2020-12-19 03:12:00-08:00              NaN  \n",
       "2020-12-19 03:13:00-08:00              NaN  \n",
       "2020-12-19 03:14:00-08:00              NaN  \n",
       "2020-12-19 03:15:00-08:00              NaN  \n",
       "\n",
       "[1480 rows x 8 columns]"
      ]
     },
     "execution_count": 17,
     "metadata": {},
     "output_type": "execute_result"
    }
   ],
   "source": [
    "# similary only the metrics that correspond to tweet times are extracted\n",
    "\n",
    "b_df = b_df.loc[\"2020-12-18 02:36:00\":\"2020-12-19 03:15:00\"]\n",
    "b_df"
   ]
  },
  {
   "cell_type": "markdown",
   "metadata": {},
   "source": [
    "In order to avoid bias, a lag must be incorporated. I will assume a $1$ minute lag between tweet and close price. Namely, we will study the interaction between a tweet at minute $n$ and the corresponding \n",
    "Bitcoin close price at minute $n+1$."
   ]
  },
  {
   "cell_type": "code",
   "execution_count": 18,
   "metadata": {
    "ExecuteTime": {
     "end_time": "2020-12-22T07:43:57.394741Z",
     "start_time": "2020-12-22T07:43:57.366862Z"
    }
   },
   "outputs": [
    {
     "name": "stderr",
     "output_type": "stream",
     "text": [
      "<ipython-input-18-237acb3bc6e9>:3: SettingWithCopyWarning: \n",
      "A value is trying to be set on a copy of a slice from a DataFrame.\n",
      "Try using .loc[row_indexer,col_indexer] = value instead\n",
      "\n",
      "See the caveats in the documentation: https://pandas.pydata.org/pandas-docs/stable/user_guide/indexing.html#returning-a-view-versus-a-copy\n",
      "  b_df['Lag Price'] = b_df[\"close\"].shift(-lag)\n"
     ]
    },
    {
     "data": {
      "text/html": [
       "<div>\n",
       "<style scoped>\n",
       "    .dataframe tbody tr th:only-of-type {\n",
       "        vertical-align: middle;\n",
       "    }\n",
       "\n",
       "    .dataframe tbody tr th {\n",
       "        vertical-align: top;\n",
       "    }\n",
       "\n",
       "    .dataframe thead th {\n",
       "        text-align: right;\n",
       "    }\n",
       "</style>\n",
       "<table border=\"1\" class=\"dataframe\">\n",
       "  <thead>\n",
       "    <tr style=\"text-align: right;\">\n",
       "      <th></th>\n",
       "      <th>high</th>\n",
       "      <th>low</th>\n",
       "      <th>open</th>\n",
       "      <th>volumefrom</th>\n",
       "      <th>volumeto</th>\n",
       "      <th>close</th>\n",
       "      <th>conversionType</th>\n",
       "      <th>conversionSymbol</th>\n",
       "      <th>Lag Price</th>\n",
       "    </tr>\n",
       "    <tr>\n",
       "      <th>time</th>\n",
       "      <th></th>\n",
       "      <th></th>\n",
       "      <th></th>\n",
       "      <th></th>\n",
       "      <th></th>\n",
       "      <th></th>\n",
       "      <th></th>\n",
       "      <th></th>\n",
       "      <th></th>\n",
       "    </tr>\n",
       "  </thead>\n",
       "  <tbody>\n",
       "    <tr>\n",
       "      <th>2020-12-18 02:36:00-08:00</th>\n",
       "      <td>18949.26</td>\n",
       "      <td>18937.00</td>\n",
       "      <td>18937.00</td>\n",
       "      <td>13.950</td>\n",
       "      <td>264446.47</td>\n",
       "      <td>18941.69</td>\n",
       "      <td>direct</td>\n",
       "      <td>NaN</td>\n",
       "      <td>18898.25</td>\n",
       "    </tr>\n",
       "    <tr>\n",
       "      <th>2020-12-18 02:37:00-08:00</th>\n",
       "      <td>18941.69</td>\n",
       "      <td>18898.19</td>\n",
       "      <td>18941.69</td>\n",
       "      <td>10.750</td>\n",
       "      <td>203493.68</td>\n",
       "      <td>18898.25</td>\n",
       "      <td>direct</td>\n",
       "      <td>NaN</td>\n",
       "      <td>18911.28</td>\n",
       "    </tr>\n",
       "    <tr>\n",
       "      <th>2020-12-18 02:38:00-08:00</th>\n",
       "      <td>18911.28</td>\n",
       "      <td>18897.02</td>\n",
       "      <td>18898.25</td>\n",
       "      <td>3.184</td>\n",
       "      <td>60152.75</td>\n",
       "      <td>18911.28</td>\n",
       "      <td>direct</td>\n",
       "      <td>NaN</td>\n",
       "      <td>18899.50</td>\n",
       "    </tr>\n",
       "    <tr>\n",
       "      <th>2020-12-18 02:39:00-08:00</th>\n",
       "      <td>18903.05</td>\n",
       "      <td>18896.66</td>\n",
       "      <td>18903.37</td>\n",
       "      <td>64.820</td>\n",
       "      <td>1225065.77</td>\n",
       "      <td>18899.50</td>\n",
       "      <td>invert_divide</td>\n",
       "      <td>ETH</td>\n",
       "      <td>18897.75</td>\n",
       "    </tr>\n",
       "    <tr>\n",
       "      <th>2020-12-18 02:40:00-08:00</th>\n",
       "      <td>18914.66</td>\n",
       "      <td>18897.75</td>\n",
       "      <td>18912.70</td>\n",
       "      <td>2.594</td>\n",
       "      <td>49064.10</td>\n",
       "      <td>18897.75</td>\n",
       "      <td>direct</td>\n",
       "      <td>NaN</td>\n",
       "      <td>18872.80</td>\n",
       "    </tr>\n",
       "    <tr>\n",
       "      <th>...</th>\n",
       "      <td>...</td>\n",
       "      <td>...</td>\n",
       "      <td>...</td>\n",
       "      <td>...</td>\n",
       "      <td>...</td>\n",
       "      <td>...</td>\n",
       "      <td>...</td>\n",
       "      <td>...</td>\n",
       "      <td>...</td>\n",
       "    </tr>\n",
       "    <tr>\n",
       "      <th>2020-12-19 03:11:00-08:00</th>\n",
       "      <td>18903.71</td>\n",
       "      <td>18897.22</td>\n",
       "      <td>18897.22</td>\n",
       "      <td>2.568</td>\n",
       "      <td>48528.43</td>\n",
       "      <td>18901.25</td>\n",
       "      <td>direct</td>\n",
       "      <td>NaN</td>\n",
       "      <td>18905.73</td>\n",
       "    </tr>\n",
       "    <tr>\n",
       "      <th>2020-12-19 03:12:00-08:00</th>\n",
       "      <td>18907.36</td>\n",
       "      <td>18901.25</td>\n",
       "      <td>18901.25</td>\n",
       "      <td>8.306</td>\n",
       "      <td>156973.64</td>\n",
       "      <td>18905.73</td>\n",
       "      <td>direct</td>\n",
       "      <td>NaN</td>\n",
       "      <td>18909.43</td>\n",
       "    </tr>\n",
       "    <tr>\n",
       "      <th>2020-12-19 03:13:00-08:00</th>\n",
       "      <td>18911.59</td>\n",
       "      <td>18905.00</td>\n",
       "      <td>18905.73</td>\n",
       "      <td>6.503</td>\n",
       "      <td>122942.49</td>\n",
       "      <td>18909.43</td>\n",
       "      <td>direct</td>\n",
       "      <td>NaN</td>\n",
       "      <td>18916.85</td>\n",
       "    </tr>\n",
       "    <tr>\n",
       "      <th>2020-12-19 03:14:00-08:00</th>\n",
       "      <td>18916.85</td>\n",
       "      <td>18909.43</td>\n",
       "      <td>18909.43</td>\n",
       "      <td>3.146</td>\n",
       "      <td>59476.40</td>\n",
       "      <td>18916.85</td>\n",
       "      <td>direct</td>\n",
       "      <td>NaN</td>\n",
       "      <td>18924.92</td>\n",
       "    </tr>\n",
       "    <tr>\n",
       "      <th>2020-12-19 03:15:00-08:00</th>\n",
       "      <td>18925.21</td>\n",
       "      <td>18916.85</td>\n",
       "      <td>18916.85</td>\n",
       "      <td>5.169</td>\n",
       "      <td>97774.77</td>\n",
       "      <td>18924.92</td>\n",
       "      <td>direct</td>\n",
       "      <td>NaN</td>\n",
       "      <td>NaN</td>\n",
       "    </tr>\n",
       "  </tbody>\n",
       "</table>\n",
       "<p>1480 rows × 9 columns</p>\n",
       "</div>"
      ],
      "text/plain": [
       "                               high       low      open  volumefrom  \\\n",
       "time                                                                  \n",
       "2020-12-18 02:36:00-08:00  18949.26  18937.00  18937.00      13.950   \n",
       "2020-12-18 02:37:00-08:00  18941.69  18898.19  18941.69      10.750   \n",
       "2020-12-18 02:38:00-08:00  18911.28  18897.02  18898.25       3.184   \n",
       "2020-12-18 02:39:00-08:00  18903.05  18896.66  18903.37      64.820   \n",
       "2020-12-18 02:40:00-08:00  18914.66  18897.75  18912.70       2.594   \n",
       "...                             ...       ...       ...         ...   \n",
       "2020-12-19 03:11:00-08:00  18903.71  18897.22  18897.22       2.568   \n",
       "2020-12-19 03:12:00-08:00  18907.36  18901.25  18901.25       8.306   \n",
       "2020-12-19 03:13:00-08:00  18911.59  18905.00  18905.73       6.503   \n",
       "2020-12-19 03:14:00-08:00  18916.85  18909.43  18909.43       3.146   \n",
       "2020-12-19 03:15:00-08:00  18925.21  18916.85  18916.85       5.169   \n",
       "\n",
       "                             volumeto     close conversionType  \\\n",
       "time                                                             \n",
       "2020-12-18 02:36:00-08:00   264446.47  18941.69         direct   \n",
       "2020-12-18 02:37:00-08:00   203493.68  18898.25         direct   \n",
       "2020-12-18 02:38:00-08:00    60152.75  18911.28         direct   \n",
       "2020-12-18 02:39:00-08:00  1225065.77  18899.50  invert_divide   \n",
       "2020-12-18 02:40:00-08:00    49064.10  18897.75         direct   \n",
       "...                               ...       ...            ...   \n",
       "2020-12-19 03:11:00-08:00    48528.43  18901.25         direct   \n",
       "2020-12-19 03:12:00-08:00   156973.64  18905.73         direct   \n",
       "2020-12-19 03:13:00-08:00   122942.49  18909.43         direct   \n",
       "2020-12-19 03:14:00-08:00    59476.40  18916.85         direct   \n",
       "2020-12-19 03:15:00-08:00    97774.77  18924.92         direct   \n",
       "\n",
       "                          conversionSymbol  Lag Price  \n",
       "time                                                   \n",
       "2020-12-18 02:36:00-08:00              NaN   18898.25  \n",
       "2020-12-18 02:37:00-08:00              NaN   18911.28  \n",
       "2020-12-18 02:38:00-08:00              NaN   18899.50  \n",
       "2020-12-18 02:39:00-08:00              ETH   18897.75  \n",
       "2020-12-18 02:40:00-08:00              NaN   18872.80  \n",
       "...                                    ...        ...  \n",
       "2020-12-19 03:11:00-08:00              NaN   18905.73  \n",
       "2020-12-19 03:12:00-08:00              NaN   18909.43  \n",
       "2020-12-19 03:13:00-08:00              NaN   18916.85  \n",
       "2020-12-19 03:14:00-08:00              NaN   18924.92  \n",
       "2020-12-19 03:15:00-08:00              NaN        NaN  \n",
       "\n",
       "[1480 rows x 9 columns]"
      ]
     },
     "execution_count": 18,
     "metadata": {},
     "output_type": "execute_result"
    }
   ],
   "source": [
    "lag = 1 \n",
    "\n",
    "b_df['Lag Price'] = b_df[\"close\"].shift(-lag)\n",
    "b_df"
   ]
  },
  {
   "cell_type": "code",
   "execution_count": 19,
   "metadata": {
    "ExecuteTime": {
     "end_time": "2020-12-22T07:44:00.485143Z",
     "start_time": "2020-12-22T07:44:00.471163Z"
    },
    "scrolled": true
   },
   "outputs": [
    {
     "name": "stderr",
     "output_type": "stream",
     "text": [
      "C:\\Users\\kiano\\anaconda3\\lib\\site-packages\\pandas\\core\\frame.py:3990: SettingWithCopyWarning: \n",
      "A value is trying to be set on a copy of a slice from a DataFrame\n",
      "\n",
      "See the caveats in the documentation: https://pandas.pydata.org/pandas-docs/stable/user_guide/indexing.html#returning-a-view-versus-a-copy\n",
      "  return super().drop(\n"
     ]
    },
    {
     "data": {
      "text/html": [
       "<div>\n",
       "<style scoped>\n",
       "    .dataframe tbody tr th:only-of-type {\n",
       "        vertical-align: middle;\n",
       "    }\n",
       "\n",
       "    .dataframe tbody tr th {\n",
       "        vertical-align: top;\n",
       "    }\n",
       "\n",
       "    .dataframe thead th {\n",
       "        text-align: right;\n",
       "    }\n",
       "</style>\n",
       "<table border=\"1\" class=\"dataframe\">\n",
       "  <thead>\n",
       "    <tr style=\"text-align: right;\">\n",
       "      <th></th>\n",
       "      <th>Lag Price</th>\n",
       "    </tr>\n",
       "    <tr>\n",
       "      <th>time</th>\n",
       "      <th></th>\n",
       "    </tr>\n",
       "  </thead>\n",
       "  <tbody>\n",
       "    <tr>\n",
       "      <th>2020-12-18 02:36:00-08:00</th>\n",
       "      <td>18898.25</td>\n",
       "    </tr>\n",
       "    <tr>\n",
       "      <th>2020-12-18 02:37:00-08:00</th>\n",
       "      <td>18911.28</td>\n",
       "    </tr>\n",
       "    <tr>\n",
       "      <th>2020-12-18 02:38:00-08:00</th>\n",
       "      <td>18899.50</td>\n",
       "    </tr>\n",
       "    <tr>\n",
       "      <th>2020-12-18 02:39:00-08:00</th>\n",
       "      <td>18897.75</td>\n",
       "    </tr>\n",
       "    <tr>\n",
       "      <th>2020-12-18 02:40:00-08:00</th>\n",
       "      <td>18872.80</td>\n",
       "    </tr>\n",
       "    <tr>\n",
       "      <th>...</th>\n",
       "      <td>...</td>\n",
       "    </tr>\n",
       "    <tr>\n",
       "      <th>2020-12-19 03:11:00-08:00</th>\n",
       "      <td>18905.73</td>\n",
       "    </tr>\n",
       "    <tr>\n",
       "      <th>2020-12-19 03:12:00-08:00</th>\n",
       "      <td>18909.43</td>\n",
       "    </tr>\n",
       "    <tr>\n",
       "      <th>2020-12-19 03:13:00-08:00</th>\n",
       "      <td>18916.85</td>\n",
       "    </tr>\n",
       "    <tr>\n",
       "      <th>2020-12-19 03:14:00-08:00</th>\n",
       "      <td>18924.92</td>\n",
       "    </tr>\n",
       "    <tr>\n",
       "      <th>2020-12-19 03:15:00-08:00</th>\n",
       "      <td>NaN</td>\n",
       "    </tr>\n",
       "  </tbody>\n",
       "</table>\n",
       "<p>1480 rows × 1 columns</p>\n",
       "</div>"
      ],
      "text/plain": [
       "                           Lag Price\n",
       "time                                \n",
       "2020-12-18 02:36:00-08:00   18898.25\n",
       "2020-12-18 02:37:00-08:00   18911.28\n",
       "2020-12-18 02:38:00-08:00   18899.50\n",
       "2020-12-18 02:39:00-08:00   18897.75\n",
       "2020-12-18 02:40:00-08:00   18872.80\n",
       "...                              ...\n",
       "2020-12-19 03:11:00-08:00   18905.73\n",
       "2020-12-19 03:12:00-08:00   18909.43\n",
       "2020-12-19 03:13:00-08:00   18916.85\n",
       "2020-12-19 03:14:00-08:00   18924.92\n",
       "2020-12-19 03:15:00-08:00        NaN\n",
       "\n",
       "[1480 rows x 1 columns]"
      ]
     },
     "execution_count": 19,
     "metadata": {},
     "output_type": "execute_result"
    }
   ],
   "source": [
    "# only extracting relevant columns \n",
    "\n",
    "b_df.drop(['high', 'low', 'open', 'volumefrom', 'volumeto', 'close', 'conversionType', 'conversionSymbol'],\n",
    "           1, inplace=True)\n",
    "b_df"
   ]
  },
  {
   "cell_type": "code",
   "execution_count": 20,
   "metadata": {
    "ExecuteTime": {
     "end_time": "2020-12-22T07:44:03.091279Z",
     "start_time": "2020-12-22T07:44:03.062407Z"
    },
    "scrolled": true
   },
   "outputs": [
    {
     "name": "stderr",
     "output_type": "stream",
     "text": [
      "<ipython-input-20-2e35ad8787d6>:3: SettingWithCopyWarning: \n",
      "A value is trying to be set on a copy of a slice from a DataFrame.\n",
      "Try using .loc[row_indexer,col_indexer] = value instead\n",
      "\n",
      "See the caveats in the documentation: https://pandas.pydata.org/pandas-docs/stable/user_guide/indexing.html#returning-a-view-versus-a-copy\n",
      "  b_df['Lag Price'] = b_df['Lag Price'].pct_change(1)\n"
     ]
    },
    {
     "data": {
      "text/html": [
       "<div>\n",
       "<style scoped>\n",
       "    .dataframe tbody tr th:only-of-type {\n",
       "        vertical-align: middle;\n",
       "    }\n",
       "\n",
       "    .dataframe tbody tr th {\n",
       "        vertical-align: top;\n",
       "    }\n",
       "\n",
       "    .dataframe thead th {\n",
       "        text-align: right;\n",
       "    }\n",
       "</style>\n",
       "<table border=\"1\" class=\"dataframe\">\n",
       "  <thead>\n",
       "    <tr style=\"text-align: right;\">\n",
       "      <th></th>\n",
       "      <th>Lag Price</th>\n",
       "    </tr>\n",
       "    <tr>\n",
       "      <th>time</th>\n",
       "      <th></th>\n",
       "    </tr>\n",
       "  </thead>\n",
       "  <tbody>\n",
       "    <tr>\n",
       "      <th>2020-12-18 02:36:00-08:00</th>\n",
       "      <td>NaN</td>\n",
       "    </tr>\n",
       "    <tr>\n",
       "      <th>2020-12-18 02:37:00-08:00</th>\n",
       "      <td>0.000689</td>\n",
       "    </tr>\n",
       "    <tr>\n",
       "      <th>2020-12-18 02:38:00-08:00</th>\n",
       "      <td>-0.000623</td>\n",
       "    </tr>\n",
       "    <tr>\n",
       "      <th>2020-12-18 02:39:00-08:00</th>\n",
       "      <td>-0.000093</td>\n",
       "    </tr>\n",
       "    <tr>\n",
       "      <th>2020-12-18 02:40:00-08:00</th>\n",
       "      <td>-0.001320</td>\n",
       "    </tr>\n",
       "    <tr>\n",
       "      <th>...</th>\n",
       "      <td>...</td>\n",
       "    </tr>\n",
       "    <tr>\n",
       "      <th>2020-12-19 03:11:00-08:00</th>\n",
       "      <td>0.000237</td>\n",
       "    </tr>\n",
       "    <tr>\n",
       "      <th>2020-12-19 03:12:00-08:00</th>\n",
       "      <td>0.000196</td>\n",
       "    </tr>\n",
       "    <tr>\n",
       "      <th>2020-12-19 03:13:00-08:00</th>\n",
       "      <td>0.000392</td>\n",
       "    </tr>\n",
       "    <tr>\n",
       "      <th>2020-12-19 03:14:00-08:00</th>\n",
       "      <td>0.000427</td>\n",
       "    </tr>\n",
       "    <tr>\n",
       "      <th>2020-12-19 03:15:00-08:00</th>\n",
       "      <td>0.000000</td>\n",
       "    </tr>\n",
       "  </tbody>\n",
       "</table>\n",
       "<p>1480 rows × 1 columns</p>\n",
       "</div>"
      ],
      "text/plain": [
       "                           Lag Price\n",
       "time                                \n",
       "2020-12-18 02:36:00-08:00        NaN\n",
       "2020-12-18 02:37:00-08:00   0.000689\n",
       "2020-12-18 02:38:00-08:00  -0.000623\n",
       "2020-12-18 02:39:00-08:00  -0.000093\n",
       "2020-12-18 02:40:00-08:00  -0.001320\n",
       "...                              ...\n",
       "2020-12-19 03:11:00-08:00   0.000237\n",
       "2020-12-19 03:12:00-08:00   0.000196\n",
       "2020-12-19 03:13:00-08:00   0.000392\n",
       "2020-12-19 03:14:00-08:00   0.000427\n",
       "2020-12-19 03:15:00-08:00   0.000000\n",
       "\n",
       "[1480 rows x 1 columns]"
      ]
     },
     "execution_count": 20,
     "metadata": {},
     "output_type": "execute_result"
    }
   ],
   "source": [
    "# computing the percentage change in close from one minute to the next \n",
    "\n",
    "b_df['Lag Price'] = b_df['Lag Price'].pct_change(1)\n",
    "b_df"
   ]
  },
  {
   "cell_type": "code",
   "execution_count": 21,
   "metadata": {
    "ExecuteTime": {
     "end_time": "2020-12-22T07:44:05.916509Z",
     "start_time": "2020-12-22T07:44:05.902581Z"
    },
    "scrolled": false
   },
   "outputs": [
    {
     "name": "stderr",
     "output_type": "stream",
     "text": [
      "<ipython-input-21-ce0c69c1562e>:3: SettingWithCopyWarning: \n",
      "A value is trying to be set on a copy of a slice from a DataFrame.\n",
      "Try using .loc[row_indexer,col_indexer] = value instead\n",
      "\n",
      "See the caveats in the documentation: https://pandas.pydata.org/pandas-docs/stable/user_guide/indexing.html#returning-a-view-versus-a-copy\n",
      "  b_df['Lag Price'] = b_df['Lag Price']>0\n",
      "<ipython-input-21-ce0c69c1562e>:4: SettingWithCopyWarning: \n",
      "A value is trying to be set on a copy of a slice from a DataFrame.\n",
      "Try using .loc[row_indexer,col_indexer] = value instead\n",
      "\n",
      "See the caveats in the documentation: https://pandas.pydata.org/pandas-docs/stable/user_guide/indexing.html#returning-a-view-versus-a-copy\n",
      "  b_df['Lag Price'] = b_df['Lag Price'].astype(int)  # 0,1 instead of False,True\n"
     ]
    },
    {
     "data": {
      "text/html": [
       "<div>\n",
       "<style scoped>\n",
       "    .dataframe tbody tr th:only-of-type {\n",
       "        vertical-align: middle;\n",
       "    }\n",
       "\n",
       "    .dataframe tbody tr th {\n",
       "        vertical-align: top;\n",
       "    }\n",
       "\n",
       "    .dataframe thead th {\n",
       "        text-align: right;\n",
       "    }\n",
       "</style>\n",
       "<table border=\"1\" class=\"dataframe\">\n",
       "  <thead>\n",
       "    <tr style=\"text-align: right;\">\n",
       "      <th></th>\n",
       "      <th>Lag Price</th>\n",
       "    </tr>\n",
       "    <tr>\n",
       "      <th>time</th>\n",
       "      <th></th>\n",
       "    </tr>\n",
       "  </thead>\n",
       "  <tbody>\n",
       "    <tr>\n",
       "      <th>2020-12-18 02:36:00-08:00</th>\n",
       "      <td>0</td>\n",
       "    </tr>\n",
       "    <tr>\n",
       "      <th>2020-12-18 02:37:00-08:00</th>\n",
       "      <td>1</td>\n",
       "    </tr>\n",
       "    <tr>\n",
       "      <th>2020-12-18 02:38:00-08:00</th>\n",
       "      <td>0</td>\n",
       "    </tr>\n",
       "    <tr>\n",
       "      <th>2020-12-18 02:39:00-08:00</th>\n",
       "      <td>0</td>\n",
       "    </tr>\n",
       "    <tr>\n",
       "      <th>2020-12-18 02:40:00-08:00</th>\n",
       "      <td>0</td>\n",
       "    </tr>\n",
       "    <tr>\n",
       "      <th>...</th>\n",
       "      <td>...</td>\n",
       "    </tr>\n",
       "    <tr>\n",
       "      <th>2020-12-19 03:11:00-08:00</th>\n",
       "      <td>1</td>\n",
       "    </tr>\n",
       "    <tr>\n",
       "      <th>2020-12-19 03:12:00-08:00</th>\n",
       "      <td>1</td>\n",
       "    </tr>\n",
       "    <tr>\n",
       "      <th>2020-12-19 03:13:00-08:00</th>\n",
       "      <td>1</td>\n",
       "    </tr>\n",
       "    <tr>\n",
       "      <th>2020-12-19 03:14:00-08:00</th>\n",
       "      <td>1</td>\n",
       "    </tr>\n",
       "    <tr>\n",
       "      <th>2020-12-19 03:15:00-08:00</th>\n",
       "      <td>0</td>\n",
       "    </tr>\n",
       "  </tbody>\n",
       "</table>\n",
       "<p>1480 rows × 1 columns</p>\n",
       "</div>"
      ],
      "text/plain": [
       "                           Lag Price\n",
       "time                                \n",
       "2020-12-18 02:36:00-08:00          0\n",
       "2020-12-18 02:37:00-08:00          1\n",
       "2020-12-18 02:38:00-08:00          0\n",
       "2020-12-18 02:39:00-08:00          0\n",
       "2020-12-18 02:40:00-08:00          0\n",
       "...                              ...\n",
       "2020-12-19 03:11:00-08:00          1\n",
       "2020-12-19 03:12:00-08:00          1\n",
       "2020-12-19 03:13:00-08:00          1\n",
       "2020-12-19 03:14:00-08:00          1\n",
       "2020-12-19 03:15:00-08:00          0\n",
       "\n",
       "[1480 rows x 1 columns]"
      ]
     },
     "execution_count": 21,
     "metadata": {},
     "output_type": "execute_result"
    }
   ],
   "source": [
    "# making Lag Price column true when its percantage change is positve, and false otherwise \n",
    "\n",
    "b_df['Lag Price'] = b_df['Lag Price']>0\n",
    "b_df['Lag Price'] = b_df['Lag Price'].astype(int)  # 0,1 instead of False,True\n",
    "b_df  "
   ]
  },
  {
   "cell_type": "markdown",
   "metadata": {},
   "source": [
    "# Sentiment Analysis"
   ]
  },
  {
   "cell_type": "markdown",
   "metadata": {},
   "source": [
    "## Incorporating Subjectivity and Polarity "
   ]
  },
  {
   "cell_type": "markdown",
   "metadata": {},
   "source": [
    "Using the textblob library, we can find two different measures of sentiment; subjectivity and polarity. Polarity is some real number $p\\in[-1,1]$, where $p=1$ implies positive sentiment and $p=-1$ implies negative sentiment. Subjectivity is some real number $s\\in[0,1]$ and it can be thought as a generalization of polarity."
   ]
  },
  {
   "cell_type": "code",
   "execution_count": 22,
   "metadata": {
    "ExecuteTime": {
     "end_time": "2020-12-22T07:44:09.494329Z",
     "start_time": "2020-12-22T07:44:09.478673Z"
    }
   },
   "outputs": [],
   "source": [
    "# subjectivity function \n",
    "def getSubjectivity(text):\n",
    "    return TextBlob(text).sentiment.subjectivity\n",
    "\n",
    "# polarity function \n",
    "def getPolarity(text):\n",
    "    return TextBlob(text).sentiment.polarity"
   ]
  },
  {
   "cell_type": "code",
   "execution_count": 23,
   "metadata": {
    "ExecuteTime": {
     "end_time": "2020-12-22T07:44:23.987715Z",
     "start_time": "2020-12-22T07:44:11.102452Z"
    },
    "scrolled": true
   },
   "outputs": [
    {
     "name": "stderr",
     "output_type": "stream",
     "text": [
      "<ipython-input-23-651cec35cc06>:3: SettingWithCopyWarning: \n",
      "A value is trying to be set on a copy of a slice from a DataFrame.\n",
      "Try using .loc[row_indexer,col_indexer] = value instead\n",
      "\n",
      "See the caveats in the documentation: https://pandas.pydata.org/pandas-docs/stable/user_guide/indexing.html#returning-a-view-versus-a-copy\n",
      "  t_df['Subjectivity'] = t_df['Tweet'].apply(getSubjectivity)\n",
      "<ipython-input-23-651cec35cc06>:4: SettingWithCopyWarning: \n",
      "A value is trying to be set on a copy of a slice from a DataFrame.\n",
      "Try using .loc[row_indexer,col_indexer] = value instead\n",
      "\n",
      "See the caveats in the documentation: https://pandas.pydata.org/pandas-docs/stable/user_guide/indexing.html#returning-a-view-versus-a-copy\n",
      "  t_df['Polarity'] = t_df['Tweet'].apply(getPolarity)\n"
     ]
    },
    {
     "data": {
      "text/html": [
       "<div>\n",
       "<style scoped>\n",
       "    .dataframe tbody tr th:only-of-type {\n",
       "        vertical-align: middle;\n",
       "    }\n",
       "\n",
       "    .dataframe tbody tr th {\n",
       "        vertical-align: top;\n",
       "    }\n",
       "\n",
       "    .dataframe thead th {\n",
       "        text-align: right;\n",
       "    }\n",
       "</style>\n",
       "<table border=\"1\" class=\"dataframe\">\n",
       "  <thead>\n",
       "    <tr style=\"text-align: right;\">\n",
       "      <th></th>\n",
       "      <th>Tweet</th>\n",
       "      <th>Subjectivity</th>\n",
       "      <th>Polarity</th>\n",
       "    </tr>\n",
       "    <tr>\n",
       "      <th>Tweet Datetime</th>\n",
       "      <th></th>\n",
       "      <th></th>\n",
       "      <th></th>\n",
       "    </tr>\n",
       "  </thead>\n",
       "  <tbody>\n",
       "    <tr>\n",
       "      <th>2020-12-18 02:36:00-08:00</th>\n",
       "      <td>btc btc bitcoin eth bnb cover ppt vidt link arp</td>\n",
       "      <td>0.000000</td>\n",
       "      <td>0.000000</td>\n",
       "    </tr>\n",
       "    <tr>\n",
       "      <th>2020-12-18 02:36:00-08:00</th>\n",
       "      <td>bitcoin\\nimagine that btc can crashdown and st...</td>\n",
       "      <td>0.277273</td>\n",
       "      <td>0.068182</td>\n",
       "    </tr>\n",
       "    <tr>\n",
       "      <th>2020-12-18 02:36:00-08:00</th>\n",
       "      <td>bitcoin operates universally meaning for the ...</td>\n",
       "      <td>0.111111</td>\n",
       "      <td>0.083333</td>\n",
       "    </tr>\n",
       "    <tr>\n",
       "      <th>2020-12-18 02:36:00-08:00</th>\n",
       "      <td>who you follow on twitter can change your life...</td>\n",
       "      <td>0.000000</td>\n",
       "      <td>0.000000</td>\n",
       "    </tr>\n",
       "    <tr>\n",
       "      <th>2020-12-18 02:36:00-08:00</th>\n",
       "      <td>im not buying bitcoin im investing in uk share...</td>\n",
       "      <td>0.000000</td>\n",
       "      <td>0.000000</td>\n",
       "    </tr>\n",
       "    <tr>\n",
       "      <th>...</th>\n",
       "      <td>...</td>\n",
       "      <td>...</td>\n",
       "      <td>...</td>\n",
       "    </tr>\n",
       "    <tr>\n",
       "      <th>2020-12-19 03:15:00-08:00</th>\n",
       "      <td>free bitcoin instantly i have recover all my s...</td>\n",
       "      <td>0.733333</td>\n",
       "      <td>0.200000</td>\n",
       "    </tr>\n",
       "    <tr>\n",
       "      <th>2020-12-19 03:15:00-08:00</th>\n",
       "      <td>all i want for christmas ismore bitcoin pleee...</td>\n",
       "      <td>0.000000</td>\n",
       "      <td>0.000000</td>\n",
       "    </tr>\n",
       "    <tr>\n",
       "      <th>2020-12-19 03:15:00-08:00</th>\n",
       "      <td>the current price of bitcoin isthe current pri...</td>\n",
       "      <td>0.400000</td>\n",
       "      <td>0.000000</td>\n",
       "    </tr>\n",
       "    <tr>\n",
       "      <th>2020-12-19 03:15:00-08:00</th>\n",
       "      <td>just received a loan ofworth of bitcoin from ...</td>\n",
       "      <td>0.300000</td>\n",
       "      <td>0.200000</td>\n",
       "    </tr>\n",
       "    <tr>\n",
       "      <th>2020-12-19 03:15:00-08:00</th>\n",
       "      <td>now we have a common wish there\\n\\nbitcoin  at</td>\n",
       "      <td>0.500000</td>\n",
       "      <td>-0.300000</td>\n",
       "    </tr>\n",
       "  </tbody>\n",
       "</table>\n",
       "<p>43271 rows × 3 columns</p>\n",
       "</div>"
      ],
      "text/plain": [
       "                                                                       Tweet  \\\n",
       "Tweet Datetime                                                                 \n",
       "2020-12-18 02:36:00-08:00   btc btc bitcoin eth bnb cover ppt vidt link arp    \n",
       "2020-12-18 02:36:00-08:00  bitcoin\\nimagine that btc can crashdown and st...   \n",
       "2020-12-18 02:36:00-08:00   bitcoin operates universally meaning for the ...   \n",
       "2020-12-18 02:36:00-08:00  who you follow on twitter can change your life...   \n",
       "2020-12-18 02:36:00-08:00  im not buying bitcoin im investing in uk share...   \n",
       "...                                                                      ...   \n",
       "2020-12-19 03:15:00-08:00  free bitcoin instantly i have recover all my s...   \n",
       "2020-12-19 03:15:00-08:00   all i want for christmas ismore bitcoin pleee...   \n",
       "2020-12-19 03:15:00-08:00  the current price of bitcoin isthe current pri...   \n",
       "2020-12-19 03:15:00-08:00   just received a loan ofworth of bitcoin from ...   \n",
       "2020-12-19 03:15:00-08:00     now we have a common wish there\\n\\nbitcoin  at   \n",
       "\n",
       "                           Subjectivity  Polarity  \n",
       "Tweet Datetime                                     \n",
       "2020-12-18 02:36:00-08:00      0.000000  0.000000  \n",
       "2020-12-18 02:36:00-08:00      0.277273  0.068182  \n",
       "2020-12-18 02:36:00-08:00      0.111111  0.083333  \n",
       "2020-12-18 02:36:00-08:00      0.000000  0.000000  \n",
       "2020-12-18 02:36:00-08:00      0.000000  0.000000  \n",
       "...                                 ...       ...  \n",
       "2020-12-19 03:15:00-08:00      0.733333  0.200000  \n",
       "2020-12-19 03:15:00-08:00      0.000000  0.000000  \n",
       "2020-12-19 03:15:00-08:00      0.400000  0.000000  \n",
       "2020-12-19 03:15:00-08:00      0.300000  0.200000  \n",
       "2020-12-19 03:15:00-08:00      0.500000 -0.300000  \n",
       "\n",
       "[43271 rows x 3 columns]"
      ]
     },
     "execution_count": 23,
     "metadata": {},
     "output_type": "execute_result"
    }
   ],
   "source": [
    "# creating new Subjectivity and Polarity columns\n",
    "\n",
    "t_df['Subjectivity'] = t_df['Tweet'].apply(getSubjectivity)\n",
    "t_df['Polarity'] = t_df['Tweet'].apply(getPolarity)\n",
    "\n",
    "t_df"
   ]
  },
  {
   "cell_type": "markdown",
   "metadata": {},
   "source": [
    "## Visualizing Subjectivity and Polarity "
   ]
  },
  {
   "cell_type": "code",
   "execution_count": 24,
   "metadata": {
    "ExecuteTime": {
     "end_time": "2020-12-22T07:44:30.597246Z",
     "start_time": "2020-12-22T07:44:27.223246Z"
    },
    "scrolled": false
   },
   "outputs": [
    {
     "data": {
      "image/png": "[encoded data removed]",
      "text/plain": [
       "<Figure size 576x432 with 1 Axes>"
      ]
     },
     "metadata": {},
     "output_type": "display_data"
    }
   ],
   "source": [
    "# plotting the polarity and subjectivity of the first 1000 tweets\n",
    "\n",
    "plt.figure(figsize=(8,6))\n",
    "for i in range(0,1000):  # instead of for i in range(0,t_df.shape[0]):\n",
    "    plt.scatter(t_df['Polarity'][i], t_df['Subjectivity'][i], color='Blue')\n",
    "    \n",
    "plt.title('Tweet Sentiment Plot')\n",
    "plt.xlabel('Polarity')\n",
    "plt.ylabel('Subjectivity')\n",
    "plt.show()"
   ]
  },
  {
   "cell_type": "code",
   "execution_count": 25,
   "metadata": {
    "ExecuteTime": {
     "end_time": "2020-12-22T07:44:36.131493Z",
     "start_time": "2020-12-22T07:44:32.927197Z"
    },
    "scrolled": true
   },
   "outputs": [
    {
     "data": {
      "image/png": "[encoded data removed]",
      "text/plain": [
       "<Figure size 576x432 with 1 Axes>"
      ]
     },
     "metadata": {},
     "output_type": "display_data"
    }
   ],
   "source": [
    "# plotting the polarity and subjectivity of the last 1000 tweets\n",
    "plt.figure(figsize=(8,6))\n",
    "for i in range(t_df.shape[0]-1000,t_df.shape[0]):  # instead of for i in range(0,t_df.shape[0]):\n",
    "    plt.scatter(t_df['Polarity'][i], t_df['Subjectivity'][i], color='Blue')\n",
    "    \n",
    "plt.title('Tweet Sentiment Plot')\n",
    "plt.xlabel('Polarity')\n",
    "plt.ylabel('Subjectivity')\n",
    "plt.show()"
   ]
  },
  {
   "cell_type": "markdown",
   "metadata": {},
   "source": [
    "From the two graphs we can observe that mean subjectivity is about 0.3 and mean polarity is about 0. "
   ]
  },
  {
   "cell_type": "markdown",
   "metadata": {},
   "source": [
    "# Classification Model "
   ]
  },
  {
   "cell_type": "markdown",
   "metadata": {},
   "source": [
    "It is now possible to begin a classification analysis since the target (change in Bitcoin price) takes on discrete values (1 if change is positive, 0 otherwise) . In this section, I will explore the logistic regression, decission tree and random forest algorithms."
   ]
  },
  {
   "cell_type": "code",
   "execution_count": 26,
   "metadata": {
    "ExecuteTime": {
     "end_time": "2020-12-22T07:44:39.921269Z",
     "start_time": "2020-12-22T07:44:39.902356Z"
    }
   },
   "outputs": [],
   "source": [
    "# Explanatory variable X is mean sentiment, \n",
    "# the two candidates are mean subjectivity and mean polarity \n",
    "\n",
    "X_1 = t_df.groupby('Tweet Datetime').Subjectivity.mean() \n",
    "X_2 = t_df.groupby('Tweet Datetime').Polarity.mean()\n",
    "\n",
    "# Dependent variable y is the change in Bitcoin Lag Price \n",
    "y = b_df['Lag Price']"
   ]
  },
  {
   "cell_type": "markdown",
   "metadata": {},
   "source": [
    "Below we can see that subjectivity and polarity are relatively steady with respect to the given time frame."
   ]
  },
  {
   "cell_type": "code",
   "execution_count": 27,
   "metadata": {
    "ExecuteTime": {
     "end_time": "2020-12-22T07:44:42.345580Z",
     "start_time": "2020-12-22T07:44:42.102683Z"
    }
   },
   "outputs": [
    {
     "data": {
      "text/plain": [
       "<matplotlib.axes._subplots.AxesSubplot at 0x256bc3c8220>"
      ]
     },
     "execution_count": 27,
     "metadata": {},
     "output_type": "execute_result"
    },
    {
     "data": {
      "image/png": "[encoded data removed]",
      "text/plain": [
       "<Figure size 432x288 with 1 Axes>"
      ]
     },
     "metadata": {},
     "output_type": "display_data"
    }
   ],
   "source": [
    "X_1.plot()"
   ]
  },
  {
   "cell_type": "code",
   "execution_count": 28,
   "metadata": {
    "ExecuteTime": {
     "end_time": "2020-12-22T07:44:45.836818Z",
     "start_time": "2020-12-22T07:44:45.662904Z"
    }
   },
   "outputs": [
    {
     "data": {
      "text/plain": [
       "<matplotlib.axes._subplots.AxesSubplot at 0x256bf008460>"
      ]
     },
     "execution_count": 28,
     "metadata": {},
     "output_type": "execute_result"
    },
    {
     "data": {
      "image/png": "[encoded data removed]",
      "text/plain": [
       "<Figure size 432x288 with 1 Axes>"
      ]
     },
     "metadata": {},
     "output_type": "display_data"
    }
   ],
   "source": [
    "X_2.plot()"
   ]
  },
  {
   "cell_type": "code",
   "execution_count": 29,
   "metadata": {
    "ExecuteTime": {
     "end_time": "2020-12-22T07:44:50.636359Z",
     "start_time": "2020-12-22T07:44:50.614460Z"
    }
   },
   "outputs": [],
   "source": [
    "# splitting the data into 75% train, 25% test\n",
    "\n",
    "X_1_train, X_1_test, y_train, y_test = model_selection.train_test_split(X_1, y, test_size=0.25)\n",
    "\n",
    "X_2_train, X_2_test, y_train, y_test = model_selection.train_test_split(X_2, y, test_size=0.25)"
   ]
  },
  {
   "cell_type": "code",
   "execution_count": 30,
   "metadata": {
    "ExecuteTime": {
     "end_time": "2020-12-22T07:44:52.306457Z",
     "start_time": "2020-12-22T07:44:52.294515Z"
    }
   },
   "outputs": [],
   "source": [
    "# converting the features from series to dataframe\n",
    "\n",
    "X_1_train = pd.DataFrame(X_1_train)\n",
    "X_1_test = pd.DataFrame(X_1_test)\n",
    "\n",
    "\n",
    "X_2_train = pd.DataFrame(X_2_train)\n",
    "X_2_test = pd.DataFrame(X_2_test)"
   ]
  },
  {
   "cell_type": "code",
   "execution_count": 31,
   "metadata": {
    "ExecuteTime": {
     "end_time": "2020-12-22T07:44:54.346214Z",
     "start_time": "2020-12-22T07:44:54.327292Z"
    }
   },
   "outputs": [],
   "source": [
    "# coverting the features to a 2D array by adding a column \n",
    "\n",
    "X_1_train = X_1_train.values.reshape(-1, 1) \n",
    "X_1_test = X_1_test.values.reshape(-1, 1)\n",
    "\n",
    "X_2_train = X_2_train.values.reshape(-1, 1) \n",
    "X_2_test = X_2_test.values.reshape(-1, 1)"
   ]
  },
  {
   "cell_type": "markdown",
   "metadata": {},
   "source": [
    "## Logistic Regression"
   ]
  },
  {
   "cell_type": "markdown",
   "metadata": {
    "ExecuteTime": {
     "end_time": "2020-12-21T22:54:22.322025Z",
     "start_time": "2020-12-21T22:54:22.306096Z"
    }
   },
   "source": [
    "### Single Feature: Mean Subjectivity"
   ]
  },
  {
   "cell_type": "code",
   "execution_count": 32,
   "metadata": {
    "ExecuteTime": {
     "end_time": "2020-12-22T07:44:57.038401Z",
     "start_time": "2020-12-22T07:44:57.014506Z"
    }
   },
   "outputs": [
    {
     "name": "stdout",
     "output_type": "stream",
     "text": [
      "Fit model: p(lag price) = L(-0.0532 + 0.3441 mean subjectivity)\n"
     ]
    }
   ],
   "source": [
    "logistic_model_s = linear_model.LogisticRegression(solver='lbfgs')\n",
    "logistic_model_s.fit(X_1_train, y_train)\n",
    "\n",
    "beta_0_s = logistic_model_s.intercept_[0]\n",
    "beta_1_s = logistic_model_s.coef_[0][0]\n",
    "\n",
    "print(f\"Fit model: p(lag price) = L({beta_0_s:.4f} + {beta_1_s:.4f} mean subjectivity)\")"
   ]
  },
  {
   "cell_type": "markdown",
   "metadata": {},
   "source": [
    "### Single Feature: Mean Polarity"
   ]
  },
  {
   "cell_type": "code",
   "execution_count": 33,
   "metadata": {
    "ExecuteTime": {
     "end_time": "2020-12-22T07:44:58.780315Z",
     "start_time": "2020-12-22T07:44:58.758378Z"
    }
   },
   "outputs": [
    {
     "name": "stdout",
     "output_type": "stream",
     "text": [
      "Fit model: p(lag price) = L(0.0016 + 0.5094 mean polarity)\n"
     ]
    }
   ],
   "source": [
    "logistic_model_p = linear_model.LogisticRegression(solver='lbfgs')\n",
    "logistic_model_p.fit(X_2_train, y_train)\n",
    "\n",
    "beta_0_p = logistic_model_p.intercept_[0]\n",
    "beta_1_p = logistic_model_p.coef_[0][0]  \n",
    "\n",
    "print(f\"Fit model: p(lag price) = L({beta_0_p:.4f} + {beta_1_p:.4f} mean polarity)\")"
   ]
  },
  {
   "cell_type": "markdown",
   "metadata": {},
   "source": [
    "### Two Features: Subjectivity and Polarity"
   ]
  },
  {
   "cell_type": "code",
   "execution_count": 34,
   "metadata": {
    "ExecuteTime": {
     "end_time": "2020-12-22T07:45:00.997427Z",
     "start_time": "2020-12-22T07:45:00.974532Z"
    }
   },
   "outputs": [],
   "source": [
    "# splitting the data into 75% train, 25% test \n",
    "\n",
    "X = pd.concat([X_1, X_2], axis=1)\n",
    "X_train, X_test, y_train, y_test = model_selection.train_test_split(X, y, test_size=0.25)"
   ]
  },
  {
   "cell_type": "code",
   "execution_count": 35,
   "metadata": {
    "ExecuteTime": {
     "end_time": "2020-12-22T07:45:02.770657Z",
     "start_time": "2020-12-22T07:45:02.758754Z"
    }
   },
   "outputs": [
    {
     "name": "stdout",
     "output_type": "stream",
     "text": [
      "Fit model: p(lag price) = L(-0.0219 + 0.1947 subjectivity +\n",
      "      0.5291 polarity)\n"
     ]
    }
   ],
   "source": [
    "logistic_sp_model = linear_model.LogisticRegression(solver='lbfgs')\n",
    "logistic_sp_model.fit(X_train, y_train)\n",
    "\n",
    "beta_0_sp = logistic_sp_model.intercept_[0]\n",
    "beta_1_sp , beta_2_sp = logistic_sp_model.coef_[0]\n",
    "\n",
    "print(f\"\"\"Fit model: p(lag price) = L({beta_0_sp:.4f} + {beta_1_sp:.4f} subjectivity +\n",
    "      {beta_2_sp:.4f} polarity)\"\"\")"
   ]
  },
  {
   "cell_type": "markdown",
   "metadata": {},
   "source": [
    "## Model Evaluation"
   ]
  },
  {
   "cell_type": "markdown",
   "metadata": {},
   "source": [
    "### Accuracy "
   ]
  },
  {
   "cell_type": "code",
   "execution_count": 36,
   "metadata": {
    "ExecuteTime": {
     "end_time": "2020-12-22T07:45:04.829361Z",
     "start_time": "2020-12-22T07:45:04.814426Z"
    }
   },
   "outputs": [
    {
     "name": "stdout",
     "output_type": "stream",
     "text": [
      "Train accuracy: 0.5162162162162162, Test accuracy: 0.5405405405405406\n"
     ]
    }
   ],
   "source": [
    "# for subjectivity:\n",
    "train_acc_s = logistic_model_s.score(X_1_train, y_train)\n",
    "test_acc_s = logistic_model_s.score(X_1_test, y_test)\n",
    "\n",
    "print(f\"Train accuracy: {train_acc_s}, Test accuracy: {test_acc_s}\")"
   ]
  },
  {
   "cell_type": "code",
   "execution_count": 37,
   "metadata": {
    "ExecuteTime": {
     "end_time": "2020-12-22T07:45:07.006943Z",
     "start_time": "2020-12-22T07:45:06.991286Z"
    }
   },
   "outputs": [
    {
     "name": "stdout",
     "output_type": "stream",
     "text": [
      "Train accuracy: 0.5126126126126126, Test accuracy: 0.5351351351351351\n"
     ]
    }
   ],
   "source": [
    "# for polarity:\n",
    "train_acc_p = logistic_model_p.score(X_2_train, y_train)\n",
    "test_acc_p = logistic_model_p.score(X_2_test, y_test)\n",
    "\n",
    "print(f\"Train accuracy: {train_acc_p}, Test accuracy: {test_acc_p}\")"
   ]
  },
  {
   "cell_type": "code",
   "execution_count": 38,
   "metadata": {
    "ExecuteTime": {
     "end_time": "2020-12-22T07:45:09.492318Z",
     "start_time": "2020-12-22T07:45:09.478420Z"
    }
   },
   "outputs": [
    {
     "name": "stdout",
     "output_type": "stream",
     "text": [
      "Train accuracy: 0.5234234234234234, Test accuracy: 0.5351351351351351\n"
     ]
    }
   ],
   "source": [
    "# for both subjectivity and polarity:\n",
    "train_acc_sp = logistic_sp_model.score(X_train, y_train)\n",
    "test_acc_sp = logistic_sp_model.score(X_test, y_test)\n",
    "\n",
    "print(f\"Train accuracy: {train_acc_sp}, Test accuracy: {test_acc_sp}\")"
   ]
  },
  {
   "cell_type": "markdown",
   "metadata": {},
   "source": [
    "## Decision Tree "
   ]
  },
  {
   "cell_type": "code",
   "execution_count": 39,
   "metadata": {
    "ExecuteTime": {
     "end_time": "2020-12-22T07:45:16.292766Z",
     "start_time": "2020-12-22T07:45:16.263897Z"
    }
   },
   "outputs": [
    {
     "name": "stdout",
     "output_type": "stream",
     "text": [
      "Training accuracy: 1.0, Testing accuracy: 0.527027027027027\n"
     ]
    }
   ],
   "source": [
    "dt_model = DecisionTreeClassifier()\n",
    "dt_model.fit(X_train, y_train)\n",
    "\n",
    "dt_pred = dt_model.predict(X_test)\n",
    "\n",
    "dt_train_acc = dt_model.score(X_train, y_train)\n",
    "dt_test_acc = dt_model.score(X_test, y_test)\n",
    "\n",
    "print(f\"Training accuracy: {dt_train_acc}, Testing accuracy: {dt_test_acc}\")"
   ]
  },
  {
   "cell_type": "markdown",
   "metadata": {},
   "source": [
    "## Random Forest"
   ]
  },
  {
   "cell_type": "code",
   "execution_count": 40,
   "metadata": {
    "ExecuteTime": {
     "end_time": "2020-12-22T07:45:19.073023Z",
     "start_time": "2020-12-22T07:45:18.806805Z"
    },
    "scrolled": true
   },
   "outputs": [
    {
     "name": "stdout",
     "output_type": "stream",
     "text": [
      "Training accuracy: 1.0, Testing accuracy: 0.5297297297297298\n"
     ]
    }
   ],
   "source": [
    "rf_model = RandomForestClassifier()\n",
    "rf_model.fit(X_train, y_train)\n",
    "\n",
    "rf_pred = rf_model.predict(X_test)\n",
    "\n",
    "rf_train_acc = rf_model.score(X_train, y_train)\n",
    "rf_test_acc = rf_model.score(X_test, y_test)\n",
    "\n",
    "print(f\"Training accuracy: {rf_train_acc}, Testing accuracy: {rf_test_acc}\")"
   ]
  },
  {
   "cell_type": "markdown",
   "metadata": {},
   "source": [
    "# Conclusion"
   ]
  },
  {
   "cell_type": "markdown",
   "metadata": {},
   "source": [
    "For the logistic regression model the flip coin accuracy for the train data, in comparison to the slightly higher accuracies for the test data sugggest that this model lacks predictive power. While the decision tree and randforest models highlight that overfitting is taking place as the model perfectly learns the training data but fails to do better than flip coin accuracy for the test data."
   ]
  },
  {
   "cell_type": "markdown",
   "metadata": {},
   "source": [
    "The highly volatile nature of Bitcoin prices versus the more steady nature of sentiment shown by the data suggest that it is likely better to study hourly or daily metrics."
   ]
  }
 ],
 "metadata": {
  "kernelspec": {
   "display_name": "Python 3",
   "language": "python",
   "name": "python3"
  },
  "language_info": {
   "codemirror_mode": {
    "name": "ipython",
    "version": 3
   },
   "file_extension": ".py",
   "mimetype": "text/x-python",
   "name": "python",
   "nbconvert_exporter": "python",
   "pygments_lexer": "ipython3",
   "version": "3.8.3"
  },
  "toc": {
   "base_numbering": 1,
   "nav_menu": {},
   "number_sections": true,
   "sideBar": true,
   "skip_h1_title": false,
   "title_cell": "Table of Contents",
   "title_sidebar": "Contents",
   "toc_cell": false,
   "toc_position": {
    "height": "calc(100% - 180px)",
    "left": "10px",
    "top": "150px",
    "width": "409.6px"
   },
   "toc_section_display": true,
   "toc_window_display": true
  }
 },
 "nbformat": 4,
 "nbformat_minor": 4
}
